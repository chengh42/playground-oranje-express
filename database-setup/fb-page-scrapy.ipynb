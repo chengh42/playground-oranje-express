{
 "cells": [
  {
   "cell_type": "markdown",
   "metadata": {},
   "source": [
    "# Scrapping Facebook page posts data\n",
    "\n",
    "The purpose of this script is to get the posts data from Facebook fanpage.\n",
    "\n",
    "*Reference: https://developers.facebook.com/docs/graph-api/reference/post/*"
   ]
  },
  {
   "cell_type": "code",
   "execution_count": 1,
   "metadata": {},
   "outputs": [],
   "source": [
    "#!pip install facebook-sdk"
   ]
  },
  {
   "cell_type": "code",
   "execution_count": 2,
   "metadata": {},
   "outputs": [],
   "source": [
    "import facebook\n",
    "import pandas as pd"
   ]
  },
  {
   "cell_type": "code",
   "execution_count": 3,
   "metadata": {},
   "outputs": [],
   "source": [
    "TOKEN = 'YOUR ACCESS TOKEN' # replace the string with your token\n",
    "PAGE_NAME = 'OranjeExpress.org'\n",
    "\n",
    "DEFAULT_NR_LIMIT = 100 # max value=100; see reference\n",
    "\n",
    "# define the field variables of interest\n",
    "DEFAULT_FIELDS = [\n",
    "    'post_id',\n",
    "    'created_time',\n",
    "    'message',\n",
    "    'is_popular'\n",
    "]"
   ]
  },
  {
   "cell_type": "code",
   "execution_count": 4,
   "metadata": {},
   "outputs": [],
   "source": [
    "def getPostData (TOKEN, PAGE_NAME, FIELDS=DEFAULT_FIELDS, NR_LIMIT=DEFAULT_NR_LIMIT):\n",
    "    '''\n",
    "    get fb page posts data with given parameters using facebook api\n",
    "    '''\n",
    "    graph = facebook.GraphAPI(access_token = TOKEN)\n",
    "    pageId = graph.get_object(PAGE_NAME, field='id')['id']\n",
    "    print(\"The Id of page \\'%s\\' is %s.\" % (PAGE_NAME, pageId))\n",
    "\n",
    "    data = [] # initial empty list to store data\n",
    "    \n",
    "    # get initial posts data\n",
    "    posts = graph.get_connections(\n",
    "                id=pageId, connection_name='posts', limit=NR_LIMIT,\n",
    "                fields=','.join(FIELDS), # create a query string of combined fields\n",
    "                )\n",
    "    data += posts['data']\n",
    "    \n",
    "    while 'next' in posts['paging']:\n",
    "        nextId = posts['paging']['next'].rsplit('after=')[1]\n",
    "        posts = graph.get_connections(\n",
    "                    id=pageId, connection_name='posts', limit=NR_LIMIT,\n",
    "                    fields=','.join(FIELDS), # create a query string of combined fields\n",
    "                    after=nextId\n",
    "                    )\n",
    "        data += posts['data']\n",
    "        \n",
    "    print('Completed! Total %i posts scrapped ^^!' % len(data))\n",
    "            \n",
    "    return data"
   ]
  },
  {
   "cell_type": "code",
   "execution_count": 5,
   "metadata": {},
   "outputs": [
    {
     "name": "stdout",
     "output_type": "stream",
     "text": [
      "The Id of page 'OranjeExpress.org' is 225292010874776.\n",
      "Completed! Total 1544 posts scrapped ^^!\n"
     ]
    }
   ],
   "source": [
    "d = getPostData(TOKEN, PAGE_NAME)"
   ]
  },
  {
   "cell_type": "code",
   "execution_count": 6,
   "metadata": {},
   "outputs": [
    {
     "data": {
      "text/html": [
       "<div>\n",
       "<style scoped>\n",
       "    .dataframe tbody tr th:only-of-type {\n",
       "        vertical-align: middle;\n",
       "    }\n",
       "\n",
       "    .dataframe tbody tr th {\n",
       "        vertical-align: top;\n",
       "    }\n",
       "\n",
       "    .dataframe thead th {\n",
       "        text-align: right;\n",
       "    }\n",
       "</style>\n",
       "<table border=\"1\" class=\"dataframe\">\n",
       "  <thead>\n",
       "    <tr style=\"text-align: right;\">\n",
       "      <th></th>\n",
       "      <th>created_time</th>\n",
       "      <th>message</th>\n",
       "      <th>is_popular</th>\n",
       "    </tr>\n",
       "    <tr>\n",
       "      <th>id</th>\n",
       "      <th></th>\n",
       "      <th></th>\n",
       "      <th></th>\n",
       "    </tr>\n",
       "  </thead>\n",
       "  <tbody>\n",
       "    <tr>\n",
       "      <th>225292010874776_947143772022926</th>\n",
       "      <td>2016-01-13T01:11:14+0000</td>\n",
       "      <td>【#荷式社會文化】菁英會議與殖民遺緒--荷蘭聯合國教科文組織國際專家會議會外篇\\n作者：王舒...</td>\n",
       "      <td>False</td>\n",
       "    </tr>\n",
       "    <tr>\n",
       "      <th>225292010874776_924122320991738</th>\n",
       "      <td>2015-12-01T08:04:10+0000</td>\n",
       "      <td>【#荷事分享】\\n\\n前幾個月台灣行腳節目三立“愛玩客”，以名廚詹姆士掛帥來荷蘭拍攝，荷事生...</td>\n",
       "      <td>False</td>\n",
       "    </tr>\n",
       "    <tr>\n",
       "      <th>225292010874776_696375167099789</th>\n",
       "      <td>2014-09-09T01:05:00+0000</td>\n",
       "      <td>[荷式人文＆藝術]\\n藝術家紀柏豪在荷蘭V2_的獨白\\n作者：紀柏豪\\n\\n 今年獲得國立台...</td>\n",
       "      <td>False</td>\n",
       "    </tr>\n",
       "    <tr>\n",
       "      <th>225292010874776_1826896394047655</th>\n",
       "      <td>2018-04-07T07:00:00+0000</td>\n",
       "      <td>【#荷事分享】\\n連星期日都還不到就開始犯收假厭世症了嗎？表示該換工作啦～～～有想過到歐洲工...</td>\n",
       "      <td>False</td>\n",
       "    </tr>\n",
       "    <tr>\n",
       "      <th>225292010874776_266613616742615</th>\n",
       "      <td>2012-02-06T16:36:24+0000</td>\n",
       "      <td>[荷式在角落 Dutchness]\\n氣候變遷劇烈，荷蘭今年的嚴冬直到二月才開始。你已經開始...</td>\n",
       "      <td>False</td>\n",
       "    </tr>\n",
       "  </tbody>\n",
       "</table>\n",
       "</div>"
      ],
      "text/plain": [
       "                                              created_time  \\\n",
       "id                                                           \n",
       "225292010874776_947143772022926   2016-01-13T01:11:14+0000   \n",
       "225292010874776_924122320991738   2015-12-01T08:04:10+0000   \n",
       "225292010874776_696375167099789   2014-09-09T01:05:00+0000   \n",
       "225292010874776_1826896394047655  2018-04-07T07:00:00+0000   \n",
       "225292010874776_266613616742615   2012-02-06T16:36:24+0000   \n",
       "\n",
       "                                                                            message  \\\n",
       "id                                                                                    \n",
       "225292010874776_947143772022926   【#荷式社會文化】菁英會議與殖民遺緒--荷蘭聯合國教科文組織國際專家會議會外篇\\n作者：王舒...   \n",
       "225292010874776_924122320991738   【#荷事分享】\\n\\n前幾個月台灣行腳節目三立“愛玩客”，以名廚詹姆士掛帥來荷蘭拍攝，荷事生...   \n",
       "225292010874776_696375167099789   [荷式人文＆藝術]\\n藝術家紀柏豪在荷蘭V2_的獨白\\n作者：紀柏豪\\n\\n 今年獲得國立台...   \n",
       "225292010874776_1826896394047655  【#荷事分享】\\n連星期日都還不到就開始犯收假厭世症了嗎？表示該換工作啦～～～有想過到歐洲工...   \n",
       "225292010874776_266613616742615   [荷式在角落 Dutchness]\\n氣候變遷劇烈，荷蘭今年的嚴冬直到二月才開始。你已經開始...   \n",
       "\n",
       "                                  is_popular  \n",
       "id                                            \n",
       "225292010874776_947143772022926        False  \n",
       "225292010874776_924122320991738        False  \n",
       "225292010874776_696375167099789        False  \n",
       "225292010874776_1826896394047655       False  \n",
       "225292010874776_266613616742615        False  "
      ]
     },
     "execution_count": 6,
     "metadata": {},
     "output_type": "execute_result"
    }
   ],
   "source": [
    "# put data into pandas df\n",
    "df = pd.DataFrame(d)\n",
    "df.set_index('id', inplace=True)\n",
    "\n",
    "# get a glance of data\n",
    "df.sample(5)"
   ]
  },
  {
   "cell_type": "code",
   "execution_count": 7,
   "metadata": {},
   "outputs": [],
   "source": [
    "# save file to csv\n",
    "df.to_csv('./data/fb-posts.csv', encoding='utf_8_sig')"
   ]
  },
  {
   "cell_type": "markdown",
   "metadata": {},
   "source": [
    "### cleanup & hashtag assignment"
   ]
  },
  {
   "cell_type": "code",
   "execution_count": 1,
   "metadata": {},
   "outputs": [],
   "source": [
    "import pandas as pd\n",
    "import re\n",
    "import random\n",
    "random.seed(42) # assign seed for reproducibility"
   ]
  },
  {
   "cell_type": "code",
   "execution_count": 2,
   "metadata": {},
   "outputs": [],
   "source": [
    "# load data\n",
    "fbPosts = pd.read_csv('./data/fb-posts.csv', encoding='utf_8_sig')"
   ]
  },
  {
   "cell_type": "code",
   "execution_count": 3,
   "metadata": {},
   "outputs": [
    {
     "output_type": "execute_result",
     "data": {
      "text/plain": [
       "                                 id              created_time  \\\n",
       "0  225292010874776_4572366496167284  2020-12-07T07:30:09+0000   \n",
       "1  225292010874776_4651913241545942  2020-12-05T15:41:02+0000   \n",
       "2  225292010874776_4642138352523431  2020-12-04T08:00:15+0000   \n",
       "3  225292010874776_4635689033168363  2020-12-02T07:57:35+0000   \n",
       "4  225292010874776_4631485426922057  2020-12-01T07:09:00+0000   \n",
       "\n",
       "                                             message  is_popular  \n",
       "0  【#荷式社會文化】買棵🌲真的聖誕樹🌲放客廳吧！\\n \\n聖尼古拉斯節（Sinterklaas...       False  \n",
       "1  【荷式社會文化】兒歌教學：整個世界都在聖尼古拉斯的禮物袋裡！\\n\\n今天（12月5日）是荷蘭...       False  \n",
       "2  【#荷式社會文化】讓我們一起聽聽唱唱2000首歌，歡送這爛透了的2020年\\n \\n聖誕將至...       False  \n",
       "3  【#荷蘭職場】荷蘭跨國科技業PM實習：面試準備＆實戰經驗分享\\n作者：楊雅淳 Iris Ya...       False  \n",
       "4  【#荷式時事】全國性口罩政策本日上路\\n\\n荷蘭的口罩措施於今天（12月1日）起生效：年滿1...       False  "
      ],
      "text/html": "<div>\n<style scoped>\n    .dataframe tbody tr th:only-of-type {\n        vertical-align: middle;\n    }\n\n    .dataframe tbody tr th {\n        vertical-align: top;\n    }\n\n    .dataframe thead th {\n        text-align: right;\n    }\n</style>\n<table border=\"1\" class=\"dataframe\">\n  <thead>\n    <tr style=\"text-align: right;\">\n      <th></th>\n      <th>id</th>\n      <th>created_time</th>\n      <th>message</th>\n      <th>is_popular</th>\n    </tr>\n  </thead>\n  <tbody>\n    <tr>\n      <th>0</th>\n      <td>225292010874776_4572366496167284</td>\n      <td>2020-12-07T07:30:09+0000</td>\n      <td>【#荷式社會文化】買棵🌲真的聖誕樹🌲放客廳吧！\\n \\n聖尼古拉斯節（Sinterklaas...</td>\n      <td>False</td>\n    </tr>\n    <tr>\n      <th>1</th>\n      <td>225292010874776_4651913241545942</td>\n      <td>2020-12-05T15:41:02+0000</td>\n      <td>【荷式社會文化】兒歌教學：整個世界都在聖尼古拉斯的禮物袋裡！\\n\\n今天（12月5日）是荷蘭...</td>\n      <td>False</td>\n    </tr>\n    <tr>\n      <th>2</th>\n      <td>225292010874776_4642138352523431</td>\n      <td>2020-12-04T08:00:15+0000</td>\n      <td>【#荷式社會文化】讓我們一起聽聽唱唱2000首歌，歡送這爛透了的2020年\\n \\n聖誕將至...</td>\n      <td>False</td>\n    </tr>\n    <tr>\n      <th>3</th>\n      <td>225292010874776_4635689033168363</td>\n      <td>2020-12-02T07:57:35+0000</td>\n      <td>【#荷蘭職場】荷蘭跨國科技業PM實習：面試準備＆實戰經驗分享\\n作者：楊雅淳 Iris Ya...</td>\n      <td>False</td>\n    </tr>\n    <tr>\n      <th>4</th>\n      <td>225292010874776_4631485426922057</td>\n      <td>2020-12-01T07:09:00+0000</td>\n      <td>【#荷式時事】全國性口罩政策本日上路\\n\\n荷蘭的口罩措施於今天（12月1日）起生效：年滿1...</td>\n      <td>False</td>\n    </tr>\n  </tbody>\n</table>\n</div>"
     },
     "metadata": {},
     "execution_count": 3
    }
   ],
   "source": [
    "fbPosts.head()"
   ]
  },
  {
   "cell_type": "code",
   "execution_count": 4,
   "metadata": {},
   "outputs": [],
   "source": [
    "# || ASSIGN PARAMETERS\n",
    "\n",
    "# all styles of bracket used to indicate hashtag/keyword\n",
    "BRACKETS = [ \n",
    "    [\"【\", \"】\"], \n",
    "    [\"［\", \"］\"],\n",
    "    [\"「\", \"」\"], \n",
    "    [\"『\", \"』\"],\n",
    "    [\"\\[\" , \"\\]\"],\n",
    "    [\"\\[-\" , \"-\\]\"],\n",
    "    [\"\\[\\[\" , \"\\]\\]\"]\n",
    "]\n",
    "\n",
    "# keywords indicating that the post is about a photography work\n",
    "PHOTO_KEYWORDS = [ \"攝影\", \"credit\", \"Credit\" ]"
   ]
  },
  {
   "cell_type": "code",
   "execution_count": 5,
   "metadata": {},
   "outputs": [],
   "source": [
    "def getHashtagFromMsg(msg):\n",
    "    '''\n",
    "    returns the hashtag/keyword of a given message\n",
    "    for regex syntax, see https://regexr.com/41vj9\n",
    "    '''\n",
    "    # generate search query to retreive hashtag from texts\n",
    "    searchQry = \"|\".join([\"(%s.*?%s)\" % (b[0], b[1]) for b in BRACKETS])\n",
    "\n",
    "    try:\n",
    "        firstLine = msg.split(\"\\n\")[0]\n",
    "    except:\n",
    "        firstLine = msg\n",
    "    \n",
    "    try:\n",
    "        # try find hastag found between indicated brackets\n",
    "        hashtag = re.search(searchQry, firstLine).group().strip()\n",
    "        hashtag = hashtag[1:-1].strip() # remove bracket itself\n",
    "    \n",
    "    except:\n",
    "        # check if the message is about a photography post\n",
    "        if any([kw in str(firstLine) for kw in PHOTO_KEYWORDS]):\n",
    "            hashtag = \"荷式攝影\"\n",
    "        else:\n",
    "            # return the first line itself when none of above rules matched\n",
    "            hashtag = str(firstLine)\n",
    "\n",
    "    # remove the leading `#` if presents\n",
    "    if hashtag.startswith(\"#\"):\n",
    "        hashtag = hashtag[1:]\n",
    "\n",
    "    return hashtag.strip()"
   ]
  },
  {
   "cell_type": "code",
   "execution_count": 6,
   "metadata": {},
   "outputs": [],
   "source": [
    "# cleaaaaaaanup!\n",
    "fbPosts[\"hashtag\"] = fbPosts.message.apply(getHashtagFromMsg)"
   ]
  },
  {
   "cell_type": "code",
   "execution_count": 7,
   "metadata": {
    "tags": []
   },
   "outputs": [
    {
     "output_type": "execute_result",
     "data": {
      "text/plain": [
       "                                    id              created_time  \\\n",
       "850   225292010874776_1060406787363290  2016-07-01T09:48:38+0000   \n",
       "817   225292010874776_1108482622555706  2016-08-25T08:06:14+0000   \n",
       "816   225292010874776_1109522552451713  2016-08-26T10:00:00+0000   \n",
       "995    225292010874776_915850061818964  2015-11-13T01:13:58+0000   \n",
       "1296   225292010874776_632683416802298  2014-05-10T09:05:17+0000   \n",
       "\n",
       "                                                message  is_popular  \\\n",
       "850   【#荷式環境科學】 本文由 眼底城事 eyes on place 授權轉載\\n作者：punk...       False   \n",
       "817   【#荷事分享】\\n好點子就是要傳播出去，過去在荷事生非露出的文章，現在被台灣媒體拍成動態影像...       False   \n",
       "816   【#荷式人文藝術- #轉角遇到art】作者：QB Hong\\n提到street art，應該...       False   \n",
       "995   [公告] \\n\\n預定每月第二週五的醬子專欄，因過度食用伴手禮，導致無法準時交稿，將推延至週...       False   \n",
       "1296  [荷式社會&文化]\\nGa naar buiten!\\n重視生活、鼓勵嘗試探索的荷式教育\\n...       False   \n",
       "\n",
       "               hashtag  \n",
       "850             荷式環境科學  \n",
       "817               荷事分享  \n",
       "816   荷式人文藝術- #轉角遇到art  \n",
       "995                 公告  \n",
       "1296           荷式社會&文化  "
      ],
      "text/html": "<div>\n<style scoped>\n    .dataframe tbody tr th:only-of-type {\n        vertical-align: middle;\n    }\n\n    .dataframe tbody tr th {\n        vertical-align: top;\n    }\n\n    .dataframe thead th {\n        text-align: right;\n    }\n</style>\n<table border=\"1\" class=\"dataframe\">\n  <thead>\n    <tr style=\"text-align: right;\">\n      <th></th>\n      <th>id</th>\n      <th>created_time</th>\n      <th>message</th>\n      <th>is_popular</th>\n      <th>hashtag</th>\n    </tr>\n  </thead>\n  <tbody>\n    <tr>\n      <th>850</th>\n      <td>225292010874776_1060406787363290</td>\n      <td>2016-07-01T09:48:38+0000</td>\n      <td>【#荷式環境科學】 本文由 眼底城事 eyes on place 授權轉載\\n作者：punk...</td>\n      <td>False</td>\n      <td>荷式環境科學</td>\n    </tr>\n    <tr>\n      <th>817</th>\n      <td>225292010874776_1108482622555706</td>\n      <td>2016-08-25T08:06:14+0000</td>\n      <td>【#荷事分享】\\n好點子就是要傳播出去，過去在荷事生非露出的文章，現在被台灣媒體拍成動態影像...</td>\n      <td>False</td>\n      <td>荷事分享</td>\n    </tr>\n    <tr>\n      <th>816</th>\n      <td>225292010874776_1109522552451713</td>\n      <td>2016-08-26T10:00:00+0000</td>\n      <td>【#荷式人文藝術- #轉角遇到art】作者：QB Hong\\n提到street art，應該...</td>\n      <td>False</td>\n      <td>荷式人文藝術- #轉角遇到art</td>\n    </tr>\n    <tr>\n      <th>995</th>\n      <td>225292010874776_915850061818964</td>\n      <td>2015-11-13T01:13:58+0000</td>\n      <td>[公告] \\n\\n預定每月第二週五的醬子專欄，因過度食用伴手禮，導致無法準時交稿，將推延至週...</td>\n      <td>False</td>\n      <td>公告</td>\n    </tr>\n    <tr>\n      <th>1296</th>\n      <td>225292010874776_632683416802298</td>\n      <td>2014-05-10T09:05:17+0000</td>\n      <td>[荷式社會&amp;文化]\\nGa naar buiten!\\n重視生活、鼓勵嘗試探索的荷式教育\\n...</td>\n      <td>False</td>\n      <td>荷式社會&amp;文化</td>\n    </tr>\n  </tbody>\n</table>\n</div>"
     },
     "metadata": {},
     "execution_count": 7
    }
   ],
   "source": [
    "# get a glance of the dataset (randomly select five rows)\n",
    "fbPosts.sample(5)"
   ]
  },
  {
   "cell_type": "code",
   "execution_count": 8,
   "metadata": {},
   "outputs": [],
   "source": [
    "# save file to csv\n",
    "fbPosts.to_csv('./data/fb-posts-hashtag.csv', encoding='utf_8_sig', index=False)"
   ]
  },
  {
   "source": [
    "#### Categorise post per retrieved hashtag"
   ],
   "cell_type": "markdown",
   "metadata": {}
  },
  {
   "cell_type": "code",
   "execution_count": 9,
   "metadata": {},
   "outputs": [],
   "source": [
    "import pandas as pd\n",
    "import random\n",
    "random.seed(42) # assign seed for reproducibility"
   ]
  },
  {
   "cell_type": "code",
   "execution_count": 10,
   "metadata": {},
   "outputs": [],
   "source": [
    "# load data\n",
    "fbPosts = pd.read_csv('./data/fb-posts-hashtag.csv', encoding='utf_8_sig')"
   ]
  },
  {
   "cell_type": "code",
   "execution_count": 11,
   "metadata": {},
   "outputs": [],
   "source": [
    "# dictionary for category-to-keyword mapping\n",
    "DICT_CATEGORY = {\n",
    "    # category : keywords\n",
    "    # listed in order of priority of assignment\n",
    "    \"社會&文化\" : [ \"社會\", \"文化\", \"歷史\", \"政治\" ],\n",
    "    \"建築&設計\" : [ \"建築\", \"設計\" ],\n",
    "    \"人文&藝術\" : [ \"人文\", \"藝術\" ],\n",
    "    \"環境&科學\" : [ \"環境\", \"科學\" ],\n",
    "    \"吃喝&玩樂\" : [ \"吃喝\", \"玩樂\", \"食\" ],\n",
    "    \"留學荷蘭\"  : [ \"留學\" ],\n",
    "    \"街拍543\"  : [ \"攝影\" ]\n",
    "}"
   ]
  },
  {
   "cell_type": "code",
   "execution_count": 12,
   "metadata": {},
   "outputs": [],
   "source": [
    "def mapHashtagToCategory(hashtag):\n",
    "    '''\n",
    "    input:  hashtag, string\n",
    "    output: tag of category, string \n",
    "    '''\n",
    "    indices = [idx for idx, category in enumerate(list(DICT_CATEGORY.values())) \n",
    "               if any([kw in str(hashtag) for kw in category])]\n",
    "    if len(indices) == 0: # no keywords matched\n",
    "        assignedCatgory = \"others\"\n",
    "    else:\n",
    "        idx = min(indices) \n",
    "        assignedCatgory = list(DICT_CATEGORY.keys())[idx]\n",
    "        \n",
    "    return assignedCatgory"
   ]
  },
  {
   "cell_type": "code",
   "execution_count": 13,
   "metadata": {},
   "outputs": [],
   "source": [
    "fbPosts[\"category\"] = fbPosts.hashtag.apply(mapHashtagToCategory)"
   ]
  },
  {
   "cell_type": "code",
   "execution_count": 14,
   "metadata": {},
   "outputs": [
    {
     "output_type": "execute_result",
     "data": {
      "text/plain": [
       "                                    id              created_time  \\\n",
       "561   225292010874776_1736195529784409  2018-01-29T00:30:00+0000   \n",
       "1401   225292010874776_572500889487218  2013-12-27T11:04:24+0000   \n",
       "1260   225292010874776_661280307275942  2014-07-05T23:17:48+0000   \n",
       "771   225292010874776_1197654550305179  2016-11-18T10:00:00+0000   \n",
       "1305   225292010874776_626687094068597  2014-04-27T13:04:40+0000   \n",
       "\n",
       "                                                message  is_popular  hashtag  \\\n",
       "561   【荷事分享】荷蘭高等教育吸引人的秘密?!\\n\\n荷蘭高等教育吸引世界的人才、並以健全的法制鼓...       False     荷事分享   \n",
       "1401  [荷式環境&科學]\\n嗅覺溝通\\n作者：Norman\\n\\n根據稍早之前荷蘭烏特勒支大學（U...       False  荷式環境&科學   \n",
       "1260  [荷式爽點] 橘獅子世足\\n\\n恭喜荷蘭終於破碎 penalty 迷咒，下一戰前四強v.s ...       False     荷式爽點   \n",
       "771   【#荷式環境科學】作者：張焜傑 Kim Chang\\n\\n荷蘭埃因霍芬科技園區中的霍斯特中心...       False   荷式環境科學   \n",
       "1305  [荷式吃喝＆玩樂] 國王節報導--愛荷蘭左擁右抱專文合作\\n歡慶百年來第一個國王節--創意不...       False  荷式吃喝＆玩樂   \n",
       "\n",
       "     category  \n",
       "561    others  \n",
       "1401    環境&科學  \n",
       "1260   others  \n",
       "771     環境&科學  \n",
       "1305    吃喝&玩樂  "
      ],
      "text/html": "<div>\n<style scoped>\n    .dataframe tbody tr th:only-of-type {\n        vertical-align: middle;\n    }\n\n    .dataframe tbody tr th {\n        vertical-align: top;\n    }\n\n    .dataframe thead th {\n        text-align: right;\n    }\n</style>\n<table border=\"1\" class=\"dataframe\">\n  <thead>\n    <tr style=\"text-align: right;\">\n      <th></th>\n      <th>id</th>\n      <th>created_time</th>\n      <th>message</th>\n      <th>is_popular</th>\n      <th>hashtag</th>\n      <th>category</th>\n    </tr>\n  </thead>\n  <tbody>\n    <tr>\n      <th>561</th>\n      <td>225292010874776_1736195529784409</td>\n      <td>2018-01-29T00:30:00+0000</td>\n      <td>【荷事分享】荷蘭高等教育吸引人的秘密?!\\n\\n荷蘭高等教育吸引世界的人才、並以健全的法制鼓...</td>\n      <td>False</td>\n      <td>荷事分享</td>\n      <td>others</td>\n    </tr>\n    <tr>\n      <th>1401</th>\n      <td>225292010874776_572500889487218</td>\n      <td>2013-12-27T11:04:24+0000</td>\n      <td>[荷式環境&amp;科學]\\n嗅覺溝通\\n作者：Norman\\n\\n根據稍早之前荷蘭烏特勒支大學（U...</td>\n      <td>False</td>\n      <td>荷式環境&amp;科學</td>\n      <td>環境&amp;科學</td>\n    </tr>\n    <tr>\n      <th>1260</th>\n      <td>225292010874776_661280307275942</td>\n      <td>2014-07-05T23:17:48+0000</td>\n      <td>[荷式爽點] 橘獅子世足\\n\\n恭喜荷蘭終於破碎 penalty 迷咒，下一戰前四強v.s ...</td>\n      <td>False</td>\n      <td>荷式爽點</td>\n      <td>others</td>\n    </tr>\n    <tr>\n      <th>771</th>\n      <td>225292010874776_1197654550305179</td>\n      <td>2016-11-18T10:00:00+0000</td>\n      <td>【#荷式環境科學】作者：張焜傑 Kim Chang\\n\\n荷蘭埃因霍芬科技園區中的霍斯特中心...</td>\n      <td>False</td>\n      <td>荷式環境科學</td>\n      <td>環境&amp;科學</td>\n    </tr>\n    <tr>\n      <th>1305</th>\n      <td>225292010874776_626687094068597</td>\n      <td>2014-04-27T13:04:40+0000</td>\n      <td>[荷式吃喝＆玩樂] 國王節報導--愛荷蘭左擁右抱專文合作\\n歡慶百年來第一個國王節--創意不...</td>\n      <td>False</td>\n      <td>荷式吃喝＆玩樂</td>\n      <td>吃喝&amp;玩樂</td>\n    </tr>\n  </tbody>\n</table>\n</div>"
     },
     "metadata": {},
     "execution_count": 14
    }
   ],
   "source": [
    "# get a glance of the dataset (randomly select five rows)\n",
    "fbPosts.sample(5)"
   ]
  },
  {
   "cell_type": "code",
   "execution_count": 15,
   "metadata": {},
   "outputs": [],
   "source": [
    "# save file to csv\n",
    "fbPosts.to_csv('./data/fb-posts-hashtagX.csv', encoding='utf_8_sig', index=False)"
   ]
  }
 ],
 "metadata": {
  "kernelspec": {
   "display_name": "Python 3",
   "language": "python",
   "name": "python3"
  },
  "language_info": {
   "codemirror_mode": {
    "name": "ipython",
    "version": 3
   },
   "file_extension": ".py",
   "mimetype": "text/x-python",
   "name": "python",
   "nbconvert_exporter": "python",
   "pygments_lexer": "ipython3",
   "version": "3.8.3-final"
  }
 },
 "nbformat": 4,
 "nbformat_minor": 4
}