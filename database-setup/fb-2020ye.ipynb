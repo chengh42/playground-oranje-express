{
 "cells": [
  {
   "cell_type": "markdown",
   "metadata": {},
   "source": [
    "# Facebook posts 2020 year-end summary\n",
    "\n",
    "To retrieve the counts of shares and likes per post Oranje Express published in 2020."
   ]
  },
  {
   "cell_type": "code",
   "execution_count": 1,
   "metadata": {},
   "outputs": [],
   "source": [
    "import facebook\n",
    "import pandas as pd\n",
    "import time \n",
    "from datetime import datetime"
   ]
  },
  {
   "cell_type": "code",
   "execution_count": 2,
   "metadata": {},
   "outputs": [],
   "source": [
    "TOKEN = 'EAACZBZBlDXIYIBAHikvXz9OubQKZAyPFhhTq23Pue5uTQayIFjzZAryp0RL4noi5XAbLNetqayr3jNe3xRcCSfJZAAo6kMMCjzcvm3wuF4WwqS3bZCsfmF4fz3vgjfN9KVam0qk9RShGUqK0a28fYUa42SKZC6uztWUSLD2ibNZC2ZBeiJeoEgloratREWI4fMh0kBy1hgfEnkAZDZD' # replace the string with your token\n",
    "PAGE_NAME = 'OranjeExpress.org'"
   ]
  },
  {
   "cell_type": "code",
   "execution_count": 3,
   "metadata": {},
   "outputs": [],
   "source": [
    "# reaction types\n",
    "REACTIONS = [\n",
    "    'LIKE', 'LOVE', 'WOW', 'HAHA', 'SAD', 'ANGRY', 'THANKFUL', 'PRIDE', 'CARE'\n",
    "]\n",
    "\n",
    "# query for count per reactio type\n",
    "qReactions = ['reactions.type(%s).limit(0).summary(total_count).as(reactions_%s)' \n",
    "              % (r.upper(), r.lower()) for r in REACTIONS]"
   ]
  },
  {
   "cell_type": "code",
   "execution_count": 4,
   "metadata": {},
   "outputs": [],
   "source": [
    "# `limit`\n",
    "DEFAULT_NR_LIMIT = 100 # max value=100\n",
    "\n",
    "# define the field variables of interest\n",
    "FIELDS = [\n",
    "    'post_id',\n",
    "    'created_time',\n",
    "    'is_popular',\n",
    "    'shares',\n",
    "    ', '.join(qReactions) # reaction counts\n",
    "]\n",
    "\n",
    "# `since`: datetime posts published since\n",
    "DATETIME_SINCE = \"2020/01/01\""
   ]
  },
  {
   "cell_type": "code",
   "execution_count": 5,
   "metadata": {},
   "outputs": [],
   "source": [
    "def getPostData (TOKEN, PAGE_NAME, FIELDS=FIELDS, \n",
    "                 NR_LIMIT=DEFAULT_NR_LIMIT, SINCE=DATETIME_SINCE):\n",
    "    '''\n",
    "    get fb page posts data with given parameters using facebook api\n",
    "    '''\n",
    "    graph = facebook.GraphAPI(access_token = TOKEN)\n",
    "    pageId = graph.get_object(PAGE_NAME, field='id')['id']\n",
    "    print(\"The Id of page \\'%s\\' is %s.\" % (PAGE_NAME, pageId))\n",
    "\n",
    "    data = [] # initial empty list to store data\n",
    "\n",
    "    # timestamp used for `since`\n",
    "    timestamp_since = time.mktime(datetime.strptime(SINCE, \"%Y/%m/%d\").timetuple())\n",
    "    \n",
    "    # get initial posts data\n",
    "    posts = graph.get_connections(\n",
    "                id=pageId, connection_name='published_posts', limit=NR_LIMIT,\n",
    "                fields=','.join(FIELDS), # create a query string of combined fields\n",
    "                since=timestamp_since\n",
    "                )\n",
    "    data += posts['data']\n",
    "    \n",
    "    while 'next' in posts['paging']:\n",
    "        nextId = posts['paging']['next'].rsplit('after=')[1]\n",
    "        posts = graph.get_connections(\n",
    "                    id=pageId, connection_name='published_posts', limit=NR_LIMIT,\n",
    "                    fields=','.join(FIELDS), # create a query string of combined fields\n",
    "                    after=nextId, since=timestamp_since\n",
    "                    )\n",
    "        data += posts['data']\n",
    "        \n",
    "    print('Completed! Total %i posts scrapped ^^!' % len(data))\n",
    "            \n",
    "    return data"
   ]
  },
  {
   "cell_type": "code",
   "execution_count": 6,
   "metadata": {},
   "outputs": [
    {
     "output_type": "stream",
     "name": "stdout",
     "text": [
      "The Id of page 'OranjeExpress.org' is 225292010874776.\n",
      "Completed! Total 214 posts scrapped ^^!\n"
     ]
    }
   ],
   "source": [
    "d = getPostData(TOKEN, PAGE_NAME)"
   ]
  },
  {
   "cell_type": "code",
   "execution_count": 7,
   "metadata": {},
   "outputs": [
    {
     "output_type": "execute_result",
     "data": {
      "text/plain": [
       "                 created_time  is_popular         shares  \\\n",
       "196  2020-02-05T08:33:10+0000       False  {'count': 12}   \n",
       "\n",
       "                                   reactions_like  \\\n",
       "196  {'data': [], 'summary': {'total_count': 46}}   \n",
       "\n",
       "                                  reactions_love  \\\n",
       "196  {'data': [], 'summary': {'total_count': 0}}   \n",
       "\n",
       "                                   reactions_wow  \\\n",
       "196  {'data': [], 'summary': {'total_count': 0}}   \n",
       "\n",
       "                                  reactions_haha  \\\n",
       "196  {'data': [], 'summary': {'total_count': 1}}   \n",
       "\n",
       "                                   reactions_sad  \\\n",
       "196  {'data': [], 'summary': {'total_count': 0}}   \n",
       "\n",
       "                                 reactions_angry  \\\n",
       "196  {'data': [], 'summary': {'total_count': 0}}   \n",
       "\n",
       "                              reactions_thankful  \\\n",
       "196  {'data': [], 'summary': {'total_count': 0}}   \n",
       "\n",
       "                                 reactions_pride  \\\n",
       "196  {'data': [], 'summary': {'total_count': 0}}   \n",
       "\n",
       "                                  reactions_care  \\\n",
       "196  {'data': [], 'summary': {'total_count': 0}}   \n",
       "\n",
       "                                   id  \n",
       "196  225292010874776_3389817977755481  "
      ],
      "text/html": "<div>\n<style scoped>\n    .dataframe tbody tr th:only-of-type {\n        vertical-align: middle;\n    }\n\n    .dataframe tbody tr th {\n        vertical-align: top;\n    }\n\n    .dataframe thead th {\n        text-align: right;\n    }\n</style>\n<table border=\"1\" class=\"dataframe\">\n  <thead>\n    <tr style=\"text-align: right;\">\n      <th></th>\n      <th>created_time</th>\n      <th>is_popular</th>\n      <th>shares</th>\n      <th>reactions_like</th>\n      <th>reactions_love</th>\n      <th>reactions_wow</th>\n      <th>reactions_haha</th>\n      <th>reactions_sad</th>\n      <th>reactions_angry</th>\n      <th>reactions_thankful</th>\n      <th>reactions_pride</th>\n      <th>reactions_care</th>\n      <th>id</th>\n    </tr>\n  </thead>\n  <tbody>\n    <tr>\n      <th>196</th>\n      <td>2020-02-05T08:33:10+0000</td>\n      <td>False</td>\n      <td>{'count': 12}</td>\n      <td>{'data': [], 'summary': {'total_count': 46}}</td>\n      <td>{'data': [], 'summary': {'total_count': 0}}</td>\n      <td>{'data': [], 'summary': {'total_count': 0}}</td>\n      <td>{'data': [], 'summary': {'total_count': 1}}</td>\n      <td>{'data': [], 'summary': {'total_count': 0}}</td>\n      <td>{'data': [], 'summary': {'total_count': 0}}</td>\n      <td>{'data': [], 'summary': {'total_count': 0}}</td>\n      <td>{'data': [], 'summary': {'total_count': 0}}</td>\n      <td>{'data': [], 'summary': {'total_count': 0}}</td>\n      <td>225292010874776_3389817977755481</td>\n    </tr>\n  </tbody>\n</table>\n</div>"
     },
     "metadata": {},
     "execution_count": 7
    }
   ],
   "source": [
    "posts = pd.DataFrame(d)\n",
    "\n",
    "# get a glance of the dataset\n",
    "posts.sample()"
   ]
  },
  {
   "cell_type": "code",
   "execution_count": 8,
   "metadata": {},
   "outputs": [],
   "source": [
    "def getReactionTotalCount( reaction ):\n",
    "    '''\n",
    "    parse dict of certain reation type to its total count\n",
    "    '''\n",
    "    return reaction['summary']['total_count'] if type(reaction) == dict else 0"
   ]
  },
  {
   "cell_type": "code",
   "execution_count": 9,
   "metadata": {},
   "outputs": [],
   "source": [
    "# dataframe subset without reactions & share\n",
    "p0 = posts.filter(regex=\"^(?!reaction)\\w+$\").drop('shares', axis=1)\n",
    "\n",
    "p_shares = posts.shares.apply(lambda x: x['count'] if type(x) == dict else 0)\n",
    "p_reactions = posts.filter(regex=\"reaction_*\").apply(lambda col: col.apply(getReactionTotalCount), axis=1)\n",
    "\n",
    "# combine data subsets\n",
    "posts_cls = (p0.merge(p_shares, left_index=True, right_index=True)\n",
    "               .merge(p_reactions, left_index=True, right_index=True))"
   ]
  },
  {
   "cell_type": "code",
   "execution_count": 10,
   "metadata": {},
   "outputs": [
    {
     "output_type": "execute_result",
     "data": {
      "text/plain": [
       "                created_time  is_popular                                id  \\\n",
       "94  2020-07-13T07:00:05+0000       False  225292010874776_3970271873043419   \n",
       "\n",
       "    shares  reactions_like  reactions_love  reactions_wow  reactions_haha  \\\n",
       "94       2              42               0              4               0   \n",
       "\n",
       "    reactions_sad  reactions_angry  reactions_thankful  reactions_pride  \\\n",
       "94              0                0                   0                0   \n",
       "\n",
       "    reactions_care  \n",
       "94               0  "
      ],
      "text/html": "<div>\n<style scoped>\n    .dataframe tbody tr th:only-of-type {\n        vertical-align: middle;\n    }\n\n    .dataframe tbody tr th {\n        vertical-align: top;\n    }\n\n    .dataframe thead th {\n        text-align: right;\n    }\n</style>\n<table border=\"1\" class=\"dataframe\">\n  <thead>\n    <tr style=\"text-align: right;\">\n      <th></th>\n      <th>created_time</th>\n      <th>is_popular</th>\n      <th>id</th>\n      <th>shares</th>\n      <th>reactions_like</th>\n      <th>reactions_love</th>\n      <th>reactions_wow</th>\n      <th>reactions_haha</th>\n      <th>reactions_sad</th>\n      <th>reactions_angry</th>\n      <th>reactions_thankful</th>\n      <th>reactions_pride</th>\n      <th>reactions_care</th>\n    </tr>\n  </thead>\n  <tbody>\n    <tr>\n      <th>94</th>\n      <td>2020-07-13T07:00:05+0000</td>\n      <td>False</td>\n      <td>225292010874776_3970271873043419</td>\n      <td>2</td>\n      <td>42</td>\n      <td>0</td>\n      <td>4</td>\n      <td>0</td>\n      <td>0</td>\n      <td>0</td>\n      <td>0</td>\n      <td>0</td>\n      <td>0</td>\n    </tr>\n  </tbody>\n</table>\n</div>"
     },
     "metadata": {},
     "execution_count": 10
    }
   ],
   "source": [
    "posts_cls.sample()"
   ]
  },
  {
   "cell_type": "code",
   "execution_count": 11,
   "metadata": {},
   "outputs": [],
   "source": [
    "# save to .csv\n",
    "posts_cls.to_csv('./data/posts_2020ye.csv', index=False)"
   ]
  }
 ],
 "metadata": {
  "kernelspec": {
   "display_name": "Python 3",
   "language": "python",
   "name": "python3"
  },
  "language_info": {
   "codemirror_mode": {
    "name": "ipython",
    "version": 3
   },
   "file_extension": ".py",
   "mimetype": "text/x-python",
   "name": "python",
   "nbconvert_exporter": "python",
   "pygments_lexer": "ipython3",
   "version": "3.8.3-final"
  }
 },
 "nbformat": 4,
 "nbformat_minor": 4
}