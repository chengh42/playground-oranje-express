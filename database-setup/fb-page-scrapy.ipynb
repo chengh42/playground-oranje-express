{
 "cells": [
  {
   "cell_type": "markdown",
   "metadata": {},
   "source": [
    "# Scrapping Facebook page posts data\n",
    "\n",
    "The purpose of this script is to get the posts data from Facebook fanpage.\n",
    "\n",
    "*Reference: https://developers.facebook.com/docs/graph-api/reference/post/*"
   ]
  },
  {
   "cell_type": "code",
   "execution_count": 1,
   "metadata": {},
   "outputs": [],
   "source": [
    "#!pip install facebook-sdk"
   ]
  },
  {
   "cell_type": "code",
   "execution_count": 2,
   "metadata": {},
   "outputs": [],
   "source": [
    "import facebook\n",
    "import pandas as pd"
   ]
  },
  {
   "cell_type": "code",
   "execution_count": 3,
   "metadata": {},
   "outputs": [],
   "source": [
    "TOKEN = 'YOUR ACCESS TOKEN' # replace the string with your token\n",
    "PAGE_NAME = 'OranjeExpress.org'\n",
    "\n",
    "DEFAULT_NR_LIMIT = 100 # max value=100; see reference\n",
    "\n",
    "# define the field variables of interest\n",
    "DEFAULT_FIELDS = [\n",
    "    'post_id',\n",
    "    'created_time',\n",
    "    'message',\n",
    "    'is_popular'\n",
    "]"
   ]
  },
  {
   "cell_type": "code",
   "execution_count": 4,
   "metadata": {},
   "outputs": [],
   "source": [
    "def getPostData (TOKEN, PAGE_NAME, FIELDS=DEFAULT_FIELDS, NR_LIMIT=DEFAULT_NR_LIMIT):\n",
    "    '''\n",
    "    get fb page posts data with given parameters using facebook api\n",
    "    '''\n",
    "    graph = facebook.GraphAPI(access_token = TOKEN)\n",
    "    pageId = graph.get_object(PAGE_NAME, field='id')['id']\n",
    "    print(\"The Id of page \\'%s\\' is %s.\" % (PAGE_NAME, pageId))\n",
    "\n",
    "    data = [] # initial empty list to store data\n",
    "    \n",
    "    # get initial posts data\n",
    "    posts = graph.get_connections(\n",
    "                id=pageId, connection_name='posts', limit=NR_LIMIT,\n",
    "                fields=','.join(FIELDS), # create a query string of combined fields\n",
    "                )\n",
    "    data += posts['data']\n",
    "    \n",
    "    while 'next' in posts['paging']:\n",
    "        nextId = posts['paging']['next'].rsplit('after=')[1]\n",
    "        posts = graph.get_connections(\n",
    "                    id=pageId, connection_name='posts', limit=NR_LIMIT,\n",
    "                    fields=','.join(FIELDS), # create a query string of combined fields\n",
    "                    after=nextId\n",
    "                    )\n",
    "        data += posts['data']\n",
    "        \n",
    "    print('Completed! Total %i posts scrapped ^^!' % len(data))\n",
    "            \n",
    "    return data"
   ]
  },
  {
   "cell_type": "code",
   "execution_count": 5,
   "metadata": {},
   "outputs": [
    {
     "name": "stdout",
     "output_type": "stream",
     "text": [
      "The Id of page 'OranjeExpress.org' is 225292010874776.\n",
      "Completed! Total 1544 posts scrapped ^^!\n"
     ]
    }
   ],
   "source": [
    "d = getPostData(TOKEN, PAGE_NAME)"
   ]
  },
  {
   "cell_type": "code",
   "execution_count": 6,
   "metadata": {},
   "outputs": [
    {
     "data": {
      "text/html": [
       "<div>\n",
       "<style scoped>\n",
       "    .dataframe tbody tr th:only-of-type {\n",
       "        vertical-align: middle;\n",
       "    }\n",
       "\n",
       "    .dataframe tbody tr th {\n",
       "        vertical-align: top;\n",
       "    }\n",
       "\n",
       "    .dataframe thead th {\n",
       "        text-align: right;\n",
       "    }\n",
       "</style>\n",
       "<table border=\"1\" class=\"dataframe\">\n",
       "  <thead>\n",
       "    <tr style=\"text-align: right;\">\n",
       "      <th></th>\n",
       "      <th>created_time</th>\n",
       "      <th>message</th>\n",
       "      <th>is_popular</th>\n",
       "    </tr>\n",
       "    <tr>\n",
       "      <th>id</th>\n",
       "      <th></th>\n",
       "      <th></th>\n",
       "      <th></th>\n",
       "    </tr>\n",
       "  </thead>\n",
       "  <tbody>\n",
       "    <tr>\n",
       "      <th>225292010874776_947143772022926</th>\n",
       "      <td>2016-01-13T01:11:14+0000</td>\n",
       "      <td>【#荷式社會文化】菁英會議與殖民遺緒--荷蘭聯合國教科文組織國際專家會議會外篇\\n作者：王舒...</td>\n",
       "      <td>False</td>\n",
       "    </tr>\n",
       "    <tr>\n",
       "      <th>225292010874776_924122320991738</th>\n",
       "      <td>2015-12-01T08:04:10+0000</td>\n",
       "      <td>【#荷事分享】\\n\\n前幾個月台灣行腳節目三立“愛玩客”，以名廚詹姆士掛帥來荷蘭拍攝，荷事生...</td>\n",
       "      <td>False</td>\n",
       "    </tr>\n",
       "    <tr>\n",
       "      <th>225292010874776_696375167099789</th>\n",
       "      <td>2014-09-09T01:05:00+0000</td>\n",
       "      <td>[荷式人文＆藝術]\\n藝術家紀柏豪在荷蘭V2_的獨白\\n作者：紀柏豪\\n\\n 今年獲得國立台...</td>\n",
       "      <td>False</td>\n",
       "    </tr>\n",
       "    <tr>\n",
       "      <th>225292010874776_1826896394047655</th>\n",
       "      <td>2018-04-07T07:00:00+0000</td>\n",
       "      <td>【#荷事分享】\\n連星期日都還不到就開始犯收假厭世症了嗎？表示該換工作啦～～～有想過到歐洲工...</td>\n",
       "      <td>False</td>\n",
       "    </tr>\n",
       "    <tr>\n",
       "      <th>225292010874776_266613616742615</th>\n",
       "      <td>2012-02-06T16:36:24+0000</td>\n",
       "      <td>[荷式在角落 Dutchness]\\n氣候變遷劇烈，荷蘭今年的嚴冬直到二月才開始。你已經開始...</td>\n",
       "      <td>False</td>\n",
       "    </tr>\n",
       "  </tbody>\n",
       "</table>\n",
       "</div>"
      ],
      "text/plain": [
       "                                              created_time  \\\n",
       "id                                                           \n",
       "225292010874776_947143772022926   2016-01-13T01:11:14+0000   \n",
       "225292010874776_924122320991738   2015-12-01T08:04:10+0000   \n",
       "225292010874776_696375167099789   2014-09-09T01:05:00+0000   \n",
       "225292010874776_1826896394047655  2018-04-07T07:00:00+0000   \n",
       "225292010874776_266613616742615   2012-02-06T16:36:24+0000   \n",
       "\n",
       "                                                                            message  \\\n",
       "id                                                                                    \n",
       "225292010874776_947143772022926   【#荷式社會文化】菁英會議與殖民遺緒--荷蘭聯合國教科文組織國際專家會議會外篇\\n作者：王舒...   \n",
       "225292010874776_924122320991738   【#荷事分享】\\n\\n前幾個月台灣行腳節目三立“愛玩客”，以名廚詹姆士掛帥來荷蘭拍攝，荷事生...   \n",
       "225292010874776_696375167099789   [荷式人文＆藝術]\\n藝術家紀柏豪在荷蘭V2_的獨白\\n作者：紀柏豪\\n\\n 今年獲得國立台...   \n",
       "225292010874776_1826896394047655  【#荷事分享】\\n連星期日都還不到就開始犯收假厭世症了嗎？表示該換工作啦～～～有想過到歐洲工...   \n",
       "225292010874776_266613616742615   [荷式在角落 Dutchness]\\n氣候變遷劇烈，荷蘭今年的嚴冬直到二月才開始。你已經開始...   \n",
       "\n",
       "                                  is_popular  \n",
       "id                                            \n",
       "225292010874776_947143772022926        False  \n",
       "225292010874776_924122320991738        False  \n",
       "225292010874776_696375167099789        False  \n",
       "225292010874776_1826896394047655       False  \n",
       "225292010874776_266613616742615        False  "
      ]
     },
     "execution_count": 6,
     "metadata": {},
     "output_type": "execute_result"
    }
   ],
   "source": [
    "# put data into pandas df\n",
    "df = pd.DataFrame(d)\n",
    "df.set_index('id', inplace=True)\n",
    "\n",
    "# get a glance of data\n",
    "df.sample(5)"
   ]
  },
  {
   "cell_type": "code",
   "execution_count": 7,
   "metadata": {},
   "outputs": [],
   "source": [
    "# save file to csv\n",
    "df.to_csv('./data/fb-posts.csv', encoding='utf_8_sig')"
   ]
  },
  {
   "cell_type": "markdown",
   "metadata": {},
   "source": [
    "### cleanup & hashtag assignment"
   ]
  },
  {
   "cell_type": "code",
   "execution_count": 1,
   "metadata": {},
   "outputs": [],
   "source": [
    "import pandas as pd\r\n",
    "import re"
   ]
  },
  {
   "cell_type": "code",
   "execution_count": 2,
   "metadata": {},
   "outputs": [],
   "source": [
    "fbPosts = pd.read_csv('./data/fb-posts.csv', encoding='utf_8_sig')"
   ]
  },
  {
   "cell_type": "code",
   "execution_count": 3,
   "metadata": {},
   "outputs": [
    {
     "output_type": "execute_result",
     "data": {
      "text/plain": [
       "                                 id              created_time  \\\n",
       "0  225292010874776_4572366496167284  2020-12-07T07:30:09+0000   \n",
       "1  225292010874776_4651913241545942  2020-12-05T15:41:02+0000   \n",
       "2  225292010874776_4642138352523431  2020-12-04T08:00:15+0000   \n",
       "3  225292010874776_4635689033168363  2020-12-02T07:57:35+0000   \n",
       "4  225292010874776_4631485426922057  2020-12-01T07:09:00+0000   \n",
       "\n",
       "                                             message  is_popular  \n",
       "0  【#荷式社會文化】買棵🌲真的聖誕樹🌲放客廳吧！\\n \\n聖尼古拉斯節（Sinterklaas...       False  \n",
       "1  【荷式社會文化】兒歌教學：整個世界都在聖尼古拉斯的禮物袋裡！\\n\\n今天（12月5日）是荷蘭...       False  \n",
       "2  【#荷式社會文化】讓我們一起聽聽唱唱2000首歌，歡送這爛透了的2020年\\n \\n聖誕將至...       False  \n",
       "3  【#荷蘭職場】荷蘭跨國科技業PM實習：面試準備＆實戰經驗分享\\n作者：楊雅淳 Iris Ya...       False  \n",
       "4  【#荷式時事】全國性口罩政策本日上路\\n\\n荷蘭的口罩措施於今天（12月1日）起生效：年滿1...       False  "
      ],
      "text/html": "<div>\n<style scoped>\n    .dataframe tbody tr th:only-of-type {\n        vertical-align: middle;\n    }\n\n    .dataframe tbody tr th {\n        vertical-align: top;\n    }\n\n    .dataframe thead th {\n        text-align: right;\n    }\n</style>\n<table border=\"1\" class=\"dataframe\">\n  <thead>\n    <tr style=\"text-align: right;\">\n      <th></th>\n      <th>id</th>\n      <th>created_time</th>\n      <th>message</th>\n      <th>is_popular</th>\n    </tr>\n  </thead>\n  <tbody>\n    <tr>\n      <th>0</th>\n      <td>225292010874776_4572366496167284</td>\n      <td>2020-12-07T07:30:09+0000</td>\n      <td>【#荷式社會文化】買棵🌲真的聖誕樹🌲放客廳吧！\\n \\n聖尼古拉斯節（Sinterklaas...</td>\n      <td>False</td>\n    </tr>\n    <tr>\n      <th>1</th>\n      <td>225292010874776_4651913241545942</td>\n      <td>2020-12-05T15:41:02+0000</td>\n      <td>【荷式社會文化】兒歌教學：整個世界都在聖尼古拉斯的禮物袋裡！\\n\\n今天（12月5日）是荷蘭...</td>\n      <td>False</td>\n    </tr>\n    <tr>\n      <th>2</th>\n      <td>225292010874776_4642138352523431</td>\n      <td>2020-12-04T08:00:15+0000</td>\n      <td>【#荷式社會文化】讓我們一起聽聽唱唱2000首歌，歡送這爛透了的2020年\\n \\n聖誕將至...</td>\n      <td>False</td>\n    </tr>\n    <tr>\n      <th>3</th>\n      <td>225292010874776_4635689033168363</td>\n      <td>2020-12-02T07:57:35+0000</td>\n      <td>【#荷蘭職場】荷蘭跨國科技業PM實習：面試準備＆實戰經驗分享\\n作者：楊雅淳 Iris Ya...</td>\n      <td>False</td>\n    </tr>\n    <tr>\n      <th>4</th>\n      <td>225292010874776_4631485426922057</td>\n      <td>2020-12-01T07:09:00+0000</td>\n      <td>【#荷式時事】全國性口罩政策本日上路\\n\\n荷蘭的口罩措施於今天（12月1日）起生效：年滿1...</td>\n      <td>False</td>\n    </tr>\n  </tbody>\n</table>\n</div>"
     },
     "metadata": {},
     "execution_count": 3
    }
   ],
   "source": [
    "fbPosts.head()"
   ]
  },
  {
   "cell_type": "code",
   "execution_count": 4,
   "metadata": {},
   "outputs": [],
   "source": [
    "# || ASSIGN PARAMETERS\n",
    "\n",
    "# all styles of bracket used to indicate hashtag/keyword\n",
    "BRACKETS = [ \n",
    "    [\"【\", \"】\"], \n",
    "    [\"［\", \"］\"],\n",
    "    [\"「\", \"」\"], \n",
    "    [\"『\", \"』\"],\n",
    "    [\"\\[\" , \"\\]\"]]\n",
    "\n",
    "# keywords indicating that the post is about a photography work\n",
    "PHOTO_KEYWORDS = [ \"攝影\", \"credit\", \"Credit\" ]"
   ]
  },
  {
   "cell_type": "code",
   "execution_count": 5,
   "metadata": {},
   "outputs": [],
   "source": [
    "def getHashtagFromMsg(msg):\n",
    "    '''\n",
    "    returns the hashtag/keyword of a given message\n",
    "    for regex syntax, see https://regexr.com/41vj9\n",
    "    '''\n",
    "    # generate search query to retreive hashtag from texts\n",
    "    searchQry = \"|\".join([\"(%s.*?%s)\" % (b[0], b[1]) for b in BRACKETS])\n",
    "\n",
    "    try:\n",
    "        firstLine = msg.split(\"\\n\")[0]\n",
    "    except:\n",
    "        firstLine = msg\n",
    "    \n",
    "    try:\n",
    "        # try find hastag found between indicated brackets\n",
    "        hashtag = re.search(searchQry, firstLine).group().strip()\n",
    "        hashtag = hashtag[1:-1] # remove bracket itself\n",
    "    \n",
    "    except:\n",
    "        # check if the message is about a photography post\n",
    "        if any([kw in str(firstLine) for kw in PHOTO_KEYWORDS]):\n",
    "            hashtag = \"荷式攝影\"\n",
    "        else:\n",
    "            # return the first line itself when none of above rules matched\n",
    "            hashtag = str(firstLine)\n",
    "\n",
    "    # remove the leading `#` if presents\n",
    "    if hashtag.startswith(\"#\"):\n",
    "        hashtag = hashtag[1:]\n",
    "\n",
    "    return hashtag.strip()"
   ]
  },
  {
   "cell_type": "code",
   "execution_count": 6,
   "metadata": {},
   "outputs": [],
   "source": [
    "# cleaaaaaaanup!\n",
    "fbPosts[\"hashtag\"] = fbPosts.message.apply(getHashtagFromMsg)"
   ]
  },
  {
   "cell_type": "code",
   "execution_count": 7,
   "metadata": {
    "tags": []
   },
   "outputs": [
    {
     "output_type": "execute_result",
     "data": {
      "text/plain": [
       "                                 id              created_time  \\\n",
       "0  225292010874776_4572366496167284  2020-12-07T07:30:09+0000   \n",
       "1  225292010874776_4651913241545942  2020-12-05T15:41:02+0000   \n",
       "2  225292010874776_4642138352523431  2020-12-04T08:00:15+0000   \n",
       "3  225292010874776_4635689033168363  2020-12-02T07:57:35+0000   \n",
       "4  225292010874776_4631485426922057  2020-12-01T07:09:00+0000   \n",
       "\n",
       "                                             message  is_popular hashtag  \n",
       "0  【#荷式社會文化】買棵🌲真的聖誕樹🌲放客廳吧！\\n \\n聖尼古拉斯節（Sinterklaas...       False  荷式社會文化  \n",
       "1  【荷式社會文化】兒歌教學：整個世界都在聖尼古拉斯的禮物袋裡！\\n\\n今天（12月5日）是荷蘭...       False  荷式社會文化  \n",
       "2  【#荷式社會文化】讓我們一起聽聽唱唱2000首歌，歡送這爛透了的2020年\\n \\n聖誕將至...       False  荷式社會文化  \n",
       "3  【#荷蘭職場】荷蘭跨國科技業PM實習：面試準備＆實戰經驗分享\\n作者：楊雅淳 Iris Ya...       False    荷蘭職場  \n",
       "4  【#荷式時事】全國性口罩政策本日上路\\n\\n荷蘭的口罩措施於今天（12月1日）起生效：年滿1...       False    荷式時事  "
      ],
      "text/html": "<div>\n<style scoped>\n    .dataframe tbody tr th:only-of-type {\n        vertical-align: middle;\n    }\n\n    .dataframe tbody tr th {\n        vertical-align: top;\n    }\n\n    .dataframe thead th {\n        text-align: right;\n    }\n</style>\n<table border=\"1\" class=\"dataframe\">\n  <thead>\n    <tr style=\"text-align: right;\">\n      <th></th>\n      <th>id</th>\n      <th>created_time</th>\n      <th>message</th>\n      <th>is_popular</th>\n      <th>hashtag</th>\n    </tr>\n  </thead>\n  <tbody>\n    <tr>\n      <th>0</th>\n      <td>225292010874776_4572366496167284</td>\n      <td>2020-12-07T07:30:09+0000</td>\n      <td>【#荷式社會文化】買棵🌲真的聖誕樹🌲放客廳吧！\\n \\n聖尼古拉斯節（Sinterklaas...</td>\n      <td>False</td>\n      <td>荷式社會文化</td>\n    </tr>\n    <tr>\n      <th>1</th>\n      <td>225292010874776_4651913241545942</td>\n      <td>2020-12-05T15:41:02+0000</td>\n      <td>【荷式社會文化】兒歌教學：整個世界都在聖尼古拉斯的禮物袋裡！\\n\\n今天（12月5日）是荷蘭...</td>\n      <td>False</td>\n      <td>荷式社會文化</td>\n    </tr>\n    <tr>\n      <th>2</th>\n      <td>225292010874776_4642138352523431</td>\n      <td>2020-12-04T08:00:15+0000</td>\n      <td>【#荷式社會文化】讓我們一起聽聽唱唱2000首歌，歡送這爛透了的2020年\\n \\n聖誕將至...</td>\n      <td>False</td>\n      <td>荷式社會文化</td>\n    </tr>\n    <tr>\n      <th>3</th>\n      <td>225292010874776_4635689033168363</td>\n      <td>2020-12-02T07:57:35+0000</td>\n      <td>【#荷蘭職場】荷蘭跨國科技業PM實習：面試準備＆實戰經驗分享\\n作者：楊雅淳 Iris Ya...</td>\n      <td>False</td>\n      <td>荷蘭職場</td>\n    </tr>\n    <tr>\n      <th>4</th>\n      <td>225292010874776_4631485426922057</td>\n      <td>2020-12-01T07:09:00+0000</td>\n      <td>【#荷式時事】全國性口罩政策本日上路\\n\\n荷蘭的口罩措施於今天（12月1日）起生效：年滿1...</td>\n      <td>False</td>\n      <td>荷式時事</td>\n    </tr>\n  </tbody>\n</table>\n</div>"
     },
     "metadata": {},
     "execution_count": 7
    }
   ],
   "source": [
    "# get a glance of the dataset\n",
    "fbPosts.head()"
   ]
  },
  {
   "cell_type": "code",
   "execution_count": 8,
   "metadata": {},
   "outputs": [],
   "source": [
    "# save file to csv\n",
    "fbPosts.to_csv('./data/fb-posts-hashtag.csv', encoding='utf_8_sig')"
   ]
  }
 ],
 "metadata": {
  "kernelspec": {
   "display_name": "Python 3",
   "language": "python",
   "name": "python3"
  },
  "language_info": {
   "codemirror_mode": {
    "name": "ipython",
    "version": 3
   },
   "file_extension": ".py",
   "mimetype": "text/x-python",
   "name": "python",
   "nbconvert_exporter": "python",
   "pygments_lexer": "ipython3",
   "version": "3.8.3-final"
  }
 },
 "nbformat": 4,
 "nbformat_minor": 4
}