{
 "cells": [
  {
   "cell_type": "markdown",
   "metadata": {},
   "source": [
    "# Scrapping Facebook page posts data\n",
    "\n",
    "The purpose of this script is to get the posts data from Facebook fanpage.\n",
    "\n",
    "*Reference: https://developers.facebook.com/docs/graph-api/reference/post/*"
   ]
  },
  {
   "cell_type": "code",
   "execution_count": 1,
   "metadata": {},
   "outputs": [],
   "source": [
    "#!pip install facebook-sdk"
   ]
  },
  {
   "cell_type": "code",
   "execution_count": 2,
   "metadata": {},
   "outputs": [],
   "source": [
    "import facebook\n",
    "import pandas as pd"
   ]
  },
  {
   "cell_type": "code",
   "execution_count": 3,
   "metadata": {},
   "outputs": [],
   "source": [
    "TOKEN = 'YOUR ACCESS TOKEN' # replace the string with your token\n",
    "PAGE_NAME = 'OranjeExpress.org'\n",
    "\n",
    "DEFAULT_NR_LIMIT = 100 # max value=100; see reference\n",
    "\n",
    "# define the field variables of interest\n",
    "DEFAULT_FIELDS = [\n",
    "    'post_id',\n",
    "    'created_time',\n",
    "    'message',\n",
    "    'is_popular'\n",
    "]"
   ]
  },
  {
   "cell_type": "code",
   "execution_count": 4,
   "metadata": {},
   "outputs": [],
   "source": [
    "def getPostData (TOKEN, PAGE_NAME, FIELDS=DEFAULT_FIELDS, NR_LIMIT=DEFAULT_NR_LIMIT):\n",
    "    \n",
    "    graph = facebook.GraphAPI(access_token = TOKEN)\n",
    "    pageId = graph.get_object(PAGE_NAME, field='id')['id']\n",
    "    print(\"The Id of page\\'%s\\' is %s\" % (PAGE_NAME, pageId))\n",
    "\n",
    "    data = [] # initial empty list to store data\n",
    "    \n",
    "    # get initial posts data\n",
    "    posts = graph.get_connections(\n",
    "                id=pageId, connection_name='posts', limit=NR_LIMIT,\n",
    "                fields=','.join(FIELDS), # create a query string of combined fields\n",
    "                )\n",
    "    data += posts['data']\n",
    "    \n",
    "    while 'next' in posts['paging']:\n",
    "        nextId = posts['paging']['next'].rsplit('after=')[1]\n",
    "        posts = graph.get_connections(\n",
    "                    id=pageId, connection_name='posts', limit=NR_LIMIT,\n",
    "                    fields=','.join(FIELDS), # create a query string of combined fields\n",
    "                    after=nextId\n",
    "                    )\n",
    "        data += posts['data']\n",
    "        \n",
    "    print('Completed! Total %i posts scrapped ^^' % len(data))\n",
    "            \n",
    "    return data"
   ]
  },
  {
   "cell_type": "code",
   "execution_count": 5,
   "metadata": {},
   "outputs": [
    {
     "name": "stdout",
     "output_type": "stream",
     "text": [
      "The Id of page'OranjeExpress.org' is 225292010874776\n",
      "Completed! Total 1544 posts scrapped ^^\n"
     ]
    }
   ],
   "source": [
    "d = getPostData(TOKEN, PAGE_NAME)"
   ]
  },
  {
   "cell_type": "code",
   "execution_count": 6,
   "metadata": {},
   "outputs": [
    {
     "data": {
      "text/html": [
       "<div>\n",
       "<style scoped>\n",
       "    .dataframe tbody tr th:only-of-type {\n",
       "        vertical-align: middle;\n",
       "    }\n",
       "\n",
       "    .dataframe tbody tr th {\n",
       "        vertical-align: top;\n",
       "    }\n",
       "\n",
       "    .dataframe thead th {\n",
       "        text-align: right;\n",
       "    }\n",
       "</style>\n",
       "<table border=\"1\" class=\"dataframe\">\n",
       "  <thead>\n",
       "    <tr style=\"text-align: right;\">\n",
       "      <th></th>\n",
       "      <th>created_time</th>\n",
       "      <th>message</th>\n",
       "      <th>is_popular</th>\n",
       "    </tr>\n",
       "    <tr>\n",
       "      <th>id</th>\n",
       "      <th></th>\n",
       "      <th></th>\n",
       "      <th></th>\n",
       "    </tr>\n",
       "  </thead>\n",
       "  <tbody>\n",
       "    <tr>\n",
       "      <th>225292010874776_397486953664099</th>\n",
       "      <td>2012-12-27T11:00:57+0000</td>\n",
       "      <td>[荷式城市藝術/ Dutch City Art] (For English, please ...</td>\n",
       "      <td>False</td>\n",
       "    </tr>\n",
       "    <tr>\n",
       "      <th>225292010874776_903542503049720</th>\n",
       "      <td>2015-10-16T07:21:18+0000</td>\n",
       "      <td>[荷事分享] 荷蘭設計周\\n今天繼續連發分享，這週末事很多。荷蘭設計界每年度盛事Dutch ...</td>\n",
       "      <td>False</td>\n",
       "    </tr>\n",
       "    <tr>\n",
       "      <th>225292010874776_1195711093832858</th>\n",
       "      <td>2016-11-23T11:30:00+0000</td>\n",
       "      <td>【#荷事分享】\\n台灣高齡化已是各方關注的重點，除了最近吵得沸沸揚的長照法外，政府也早從20...</td>\n",
       "      <td>False</td>\n",
       "    </tr>\n",
       "    <tr>\n",
       "      <th>225292010874776_819431658127472</th>\n",
       "      <td>2015-05-28T00:00:00+0000</td>\n",
       "      <td>[荷事分享] 台北村落之聲\\n荷蘭紅燈區再生--阿姆斯特丹紅燈區改造研究規劃／鄭采和\\n「性...</td>\n",
       "      <td>False</td>\n",
       "    </tr>\n",
       "    <tr>\n",
       "      <th>225292010874776_3840400426030565</th>\n",
       "      <td>2020-06-12T04:10:07+0000</td>\n",
       "      <td>【#荷事分享】荷蘭外送平台Just Eat Takeaway砸73億美元收購美國的競爭同業G...</td>\n",
       "      <td>False</td>\n",
       "    </tr>\n",
       "  </tbody>\n",
       "</table>\n",
       "</div>"
      ],
      "text/plain": [
       "                                              created_time  \\\n",
       "id                                                           \n",
       "225292010874776_397486953664099   2012-12-27T11:00:57+0000   \n",
       "225292010874776_903542503049720   2015-10-16T07:21:18+0000   \n",
       "225292010874776_1195711093832858  2016-11-23T11:30:00+0000   \n",
       "225292010874776_819431658127472   2015-05-28T00:00:00+0000   \n",
       "225292010874776_3840400426030565  2020-06-12T04:10:07+0000   \n",
       "\n",
       "                                                                            message  \\\n",
       "id                                                                                    \n",
       "225292010874776_397486953664099   [荷式城市藝術/ Dutch City Art] (For English, please ...   \n",
       "225292010874776_903542503049720   [荷事分享] 荷蘭設計周\\n今天繼續連發分享，這週末事很多。荷蘭設計界每年度盛事Dutch ...   \n",
       "225292010874776_1195711093832858  【#荷事分享】\\n台灣高齡化已是各方關注的重點，除了最近吵得沸沸揚的長照法外，政府也早從20...   \n",
       "225292010874776_819431658127472   [荷事分享] 台北村落之聲\\n荷蘭紅燈區再生--阿姆斯特丹紅燈區改造研究規劃／鄭采和\\n「性...   \n",
       "225292010874776_3840400426030565  【#荷事分享】荷蘭外送平台Just Eat Takeaway砸73億美元收購美國的競爭同業G...   \n",
       "\n",
       "                                  is_popular  \n",
       "id                                            \n",
       "225292010874776_397486953664099        False  \n",
       "225292010874776_903542503049720        False  \n",
       "225292010874776_1195711093832858       False  \n",
       "225292010874776_819431658127472        False  \n",
       "225292010874776_3840400426030565       False  "
      ]
     },
     "execution_count": 6,
     "metadata": {},
     "output_type": "execute_result"
    }
   ],
   "source": [
    "# put data into pandas df\n",
    "df = pd.DataFrame(d)\n",
    "df.set_index('id', inplace=True)\n",
    "\n",
    "# get a glance of data\n",
    "df.sample(5)"
   ]
  },
  {
   "cell_type": "code",
   "execution_count": 7,
   "metadata": {},
   "outputs": [],
   "source": [
    "# save file to csv\n",
    "df.to_csv('./data/fb-posts.csv')"
   ]
  }
 ],
 "metadata": {
  "kernelspec": {
   "display_name": "Python 3",
   "language": "python",
   "name": "python3"
  },
  "language_info": {
   "codemirror_mode": {
    "name": "ipython",
    "version": 3
   },
   "file_extension": ".py",
   "mimetype": "text/x-python",
   "name": "python",
   "nbconvert_exporter": "python",
   "pygments_lexer": "ipython3",
   "version": "3.8.3"
  }
 },
 "nbformat": 4,
 "nbformat_minor": 4
}
