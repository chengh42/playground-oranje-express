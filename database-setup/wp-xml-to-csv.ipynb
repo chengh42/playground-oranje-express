{
 "cells": [
  {
   "cell_type": "markdown",
   "metadata": {},
   "source": [
    "# Parsing Orange Express Wordpress post data from xml to csv\n",
    "\n",
    "The purpose of this script is to parse the post data from .xml format to .csv file.\n",
    "\n",
    "Note: data `oranjeexpress.WordPress.2020-12-06.xml` was exported from Wordpress on Dec 6 2020."
   ]
  },
  {
   "cell_type": "code",
   "execution_count": 1,
   "metadata": {},
   "outputs": [],
   "source": [
    "import pandas as pd\n",
    "from bs4 import BeautifulSoup \n",
    "import re"
   ]
  },
  {
   "cell_type": "code",
   "execution_count": 2,
   "metadata": {},
   "outputs": [],
   "source": [
    "with open('./oranjeexpress.WordPress.2020-12-06.xml', 'r', encoding='utf8', errors='ignore') as f: \n",
    "    data = f.read() "
   ]
  },
  {
   "cell_type": "code",
   "execution_count": 3,
   "metadata": {},
   "outputs": [],
   "source": [
    "soup = BeautifulSoup(data, \"xml\")"
   ]
  },
  {
   "cell_type": "markdown",
   "metadata": {},
   "source": [
    "A demonstration/glance of the xml data structure of a post:\n",
    "\n",
    "```\n",
    "<item>\n",
    "    <title>{title}</title>\n",
    "    <link>{long url link}</link>\n",
    "    <pubDate>{published data}</pubDate>\n",
    "    <dc:creator>{author, `<![CDATA[OliviaDung]]>`}</dc:creator>\n",
    "    <guid isPermaLink=\"false\">{short url link}</guid>\n",
    "    <content:encoded>{content, formatted}</content:encoded>\n",
    "    \n",
    "    <wp:post_id>267</wp:post_id>\n",
    "    <wp:post_date><![CDATA[2012-02-07 00:00:00]]></wp:post_date>\n",
    "    <category domain=\"post_tag\" nicename=\"%e8%8d%b7%e8%98%ad%e5%82%b3%e7%b5%b1\"><![CDATA[傳統]]></category>\n",
    "    <category domain=\"category\" nicename=\"{omitted}\"><![CDATA[吃喝 &amp; 玩樂]]></category>\n",
    "</item>\n",
    "```"
   ]
  },
  {
   "cell_type": "code",
   "execution_count": 4,
   "metadata": {},
   "outputs": [],
   "source": [
    "def remove_tags(txt):\n",
    "    \"\"\"Remove xml/html tags from a string\"\"\"\n",
    "    clean = re.compile('<.*?>')\n",
    "    return re.sub(clean, '', str(txt))"
   ]
  },
  {
   "cell_type": "code",
   "execution_count": 5,
   "metadata": {},
   "outputs": [],
   "source": [
    "# define the tags to be retrieved from each post data (excl. <category>, special fix needed)\n",
    "metadata = ['title', 'dc:creator', 'wp:post_id', 'wp:post_date']\n",
    "categoryDomAttr = ['post_tag', 'category']\n",
    "\n",
    "def filterMetaDataPerPost(post):\n",
    "    \"\"\"\n",
    "    Cleanup and filter out the targeted data for each input post data\n",
    "    \"\"\"\n",
    "    miniSoup = BeautifulSoup(str(post))\n",
    "    postData = {key: remove_tags(miniSoup.find(key)) for key in metadata}\n",
    "    \n",
    "    # special fix for <category> tags since attributes are involved\n",
    "    for attr in categoryDomAttr:\n",
    "        postData[attr] = [remove_tags(x).replace('&amp;amp;', '&') \n",
    "                          for x in miniSoup.find_all('category', {'domain': attr})]\n",
    "        \n",
    "    return postData"
   ]
  },
  {
   "cell_type": "code",
   "execution_count": 6,
   "metadata": {},
   "outputs": [],
   "source": [
    "# get data!\n",
    "\n",
    "posts = soup.find_all('item')\n",
    "postsCleaned = list(map(filterMetaDataPerPost, posts))\n",
    "df = pd.DataFrame(postsCleaned)\n",
    "df.set_index('wp:post_id', inplace=True)"
   ]
  },
  {
   "cell_type": "code",
   "execution_count": 7,
   "metadata": {},
   "outputs": [
    {
     "data": {
      "text/html": [
       "<div>\n",
       "<style scoped>\n",
       "    .dataframe tbody tr th:only-of-type {\n",
       "        vertical-align: middle;\n",
       "    }\n",
       "\n",
       "    .dataframe tbody tr th {\n",
       "        vertical-align: top;\n",
       "    }\n",
       "\n",
       "    .dataframe thead th {\n",
       "        text-align: right;\n",
       "    }\n",
       "</style>\n",
       "<table border=\"1\" class=\"dataframe\">\n",
       "  <thead>\n",
       "    <tr style=\"text-align: right;\">\n",
       "      <th></th>\n",
       "      <th>title</th>\n",
       "      <th>dc:creator</th>\n",
       "      <th>wp:post_date</th>\n",
       "      <th>post_tag</th>\n",
       "      <th>category</th>\n",
       "    </tr>\n",
       "    <tr>\n",
       "      <th>wp:post_id</th>\n",
       "      <th></th>\n",
       "      <th></th>\n",
       "      <th></th>\n",
       "      <th></th>\n",
       "      <th></th>\n",
       "    </tr>\n",
       "  </thead>\n",
       "  <tbody>\n",
       "    <tr>\n",
       "      <th>8890</th>\n",
       "      <td>2018荷蘭亞洲電影節專訪《轉彎之後》導演黃千殷--一個重新找自己的旅程</td>\n",
       "      <td>SandyTu</td>\n",
       "      <td>2018-03-15 06:52:57</td>\n",
       "      <td>[CinemAsia, 亞洲, 亞洲電影節, 文化, 社會, 藝術, 電影]</td>\n",
       "      <td>[社會 &amp; 文化]</td>\n",
       "    </tr>\n",
       "    <tr>\n",
       "      <th>1735</th>\n",
       "      <td>歡慶百年來第一個國王節－創意不限！</td>\n",
       "      <td>Ching</td>\n",
       "      <td>2014-04-27 13:55:28</td>\n",
       "      <td>[二手市場, 國王節, 橘色, 購物, 阿姆斯特丹]</td>\n",
       "      <td>[吃喝 &amp; 玩樂]</td>\n",
       "    </tr>\n",
       "    <tr>\n",
       "      <th>6633</th>\n",
       "      <td>當水岸再生遇上循環經濟－永續新星De Ceuvel（下）</td>\n",
       "      <td>alleychu</td>\n",
       "      <td>2016-08-24 12:29:31</td>\n",
       "      <td>[再生, 循環經濟, 永續, 環境, 能源, 阿姆斯特丹]</td>\n",
       "      <td>[環境 &amp; 科學]</td>\n",
       "    </tr>\n",
       "    <tr>\n",
       "      <th>3351</th>\n",
       "      <td>荷蘭王國憲法200週年(上)：從共和國走向君主國的崎嶇旅程</td>\n",
       "      <td>LUChen</td>\n",
       "      <td>2014-12-24 00:00:30</td>\n",
       "      <td>[政治, 歷史, 皇室]</td>\n",
       "      <td>[社會 &amp; 文化]</td>\n",
       "    </tr>\n",
       "    <tr>\n",
       "      <th>7227</th>\n",
       "      <td>生命終止與延續課題（下）：荷蘭安樂死相關人員訪談</td>\n",
       "      <td>brontesun</td>\n",
       "      <td>2016-11-25 00:49:36</td>\n",
       "      <td>[安樂死, 法律, 社會, 老人]</td>\n",
       "      <td>[社會 &amp; 文化]</td>\n",
       "    </tr>\n",
       "  </tbody>\n",
       "</table>\n",
       "</div>"
      ],
      "text/plain": [
       "                                           title dc:creator  \\\n",
       "wp:post_id                                                    \n",
       "8890        2018荷蘭亞洲電影節專訪《轉彎之後》導演黃千殷--一個重新找自己的旅程    SandyTu   \n",
       "1735                           歡慶百年來第一個國王節－創意不限！      Ching   \n",
       "6633                當水岸再生遇上循環經濟－永續新星De Ceuvel（下）   alleychu   \n",
       "3351               荷蘭王國憲法200週年(上)：從共和國走向君主國的崎嶇旅程     LUChen   \n",
       "7227                    生命終止與延續課題（下）：荷蘭安樂死相關人員訪談  brontesun   \n",
       "\n",
       "                   wp:post_date                                post_tag  \\\n",
       "wp:post_id                                                                \n",
       "8890        2018-03-15 06:52:57  [CinemAsia, 亞洲, 亞洲電影節, 文化, 社會, 藝術, 電影]   \n",
       "1735        2014-04-27 13:55:28              [二手市場, 國王節, 橘色, 購物, 阿姆斯特丹]   \n",
       "6633        2016-08-24 12:29:31           [再生, 循環經濟, 永續, 環境, 能源, 阿姆斯特丹]   \n",
       "3351        2014-12-24 00:00:30                            [政治, 歷史, 皇室]   \n",
       "7227        2016-11-25 00:49:36                       [安樂死, 法律, 社會, 老人]   \n",
       "\n",
       "             category  \n",
       "wp:post_id             \n",
       "8890        [社會 & 文化]  \n",
       "1735        [吃喝 & 玩樂]  \n",
       "6633        [環境 & 科學]  \n",
       "3351        [社會 & 文化]  \n",
       "7227        [社會 & 文化]  "
      ]
     },
     "execution_count": 7,
     "metadata": {},
     "output_type": "execute_result"
    }
   ],
   "source": [
    "# check how data loooooooks\n",
    "df.sample(5)"
   ]
  },
  {
   "cell_type": "code",
   "execution_count": 8,
   "metadata": {},
   "outputs": [],
   "source": [
    "# save data to csv\n",
    "df.to_csv('./data/oe-wp-posts.csv', encoding='utf_8_sig')"
   ]
  },
  {
   "source": [
    "### get post tags"
   ],
   "cell_type": "markdown",
   "metadata": {}
  },
  {
   "cell_type": "code",
   "execution_count": 1,
   "metadata": {},
   "outputs": [],
   "source": [
    "import pandas as pd"
   ]
  },
  {
   "cell_type": "code",
   "execution_count": 2,
   "metadata": {},
   "outputs": [
    {
     "output_type": "execute_result",
     "data": {
      "text/plain": [
       "   wp:post_id                 title  dc:creator         wp:post_date  \\\n",
       "0         133          荷式路邊設計－舊衣回收桶   CindyLiao  2014-01-15 19:45:03   \n",
       "1         223          到底是荷蘭，還是尼德蘭？  OliviaDung  2012-12-27 14:08:28   \n",
       "2         254  希望與絕望的秘密角落－阿姆斯特丹安妮之家    YingChen  2012-02-08 22:57:56   \n",
       "3         260  阿姆斯特丹的消失八號電車－二戰猶太人電車  OliviaDung  2013-05-30 23:20:29   \n",
       "4         267         荷蘭冬季暖胃湯－不倒豌豆湯  OliviaDung  2012-02-07 00:00:00   \n",
       "\n",
       "                                        post_tag     category  \n",
       "0                          ['Breda', '創新', '設計']    ['街拍543']  \n",
       "1             ['English', '加勒比海荷屬地', '地理', '皇室']  ['社會 & 文化']  \n",
       "2  ['English', '二戰', '博物館', '景點', '歷史', '阿姆斯特丹']  ['人文 & 藝術']  \n",
       "3  ['English', '二戰', '博物館', '歷史', '社會', '阿姆斯特丹']  ['人文 & 藝術']  \n",
       "4             ['English', '傳統', '冬天', '吃', '食譜']  ['吃喝 & 玩樂']  "
      ],
      "text/html": "<div>\n<style scoped>\n    .dataframe tbody tr th:only-of-type {\n        vertical-align: middle;\n    }\n\n    .dataframe tbody tr th {\n        vertical-align: top;\n    }\n\n    .dataframe thead th {\n        text-align: right;\n    }\n</style>\n<table border=\"1\" class=\"dataframe\">\n  <thead>\n    <tr style=\"text-align: right;\">\n      <th></th>\n      <th>wp:post_id</th>\n      <th>title</th>\n      <th>dc:creator</th>\n      <th>wp:post_date</th>\n      <th>post_tag</th>\n      <th>category</th>\n    </tr>\n  </thead>\n  <tbody>\n    <tr>\n      <th>0</th>\n      <td>133</td>\n      <td>荷式路邊設計－舊衣回收桶</td>\n      <td>CindyLiao</td>\n      <td>2014-01-15 19:45:03</td>\n      <td>['Breda', '創新', '設計']</td>\n      <td>['街拍543']</td>\n    </tr>\n    <tr>\n      <th>1</th>\n      <td>223</td>\n      <td>到底是荷蘭，還是尼德蘭？</td>\n      <td>OliviaDung</td>\n      <td>2012-12-27 14:08:28</td>\n      <td>['English', '加勒比海荷屬地', '地理', '皇室']</td>\n      <td>['社會 &amp; 文化']</td>\n    </tr>\n    <tr>\n      <th>2</th>\n      <td>254</td>\n      <td>希望與絕望的秘密角落－阿姆斯特丹安妮之家</td>\n      <td>YingChen</td>\n      <td>2012-02-08 22:57:56</td>\n      <td>['English', '二戰', '博物館', '景點', '歷史', '阿姆斯特丹']</td>\n      <td>['人文 &amp; 藝術']</td>\n    </tr>\n    <tr>\n      <th>3</th>\n      <td>260</td>\n      <td>阿姆斯特丹的消失八號電車－二戰猶太人電車</td>\n      <td>OliviaDung</td>\n      <td>2013-05-30 23:20:29</td>\n      <td>['English', '二戰', '博物館', '歷史', '社會', '阿姆斯特丹']</td>\n      <td>['人文 &amp; 藝術']</td>\n    </tr>\n    <tr>\n      <th>4</th>\n      <td>267</td>\n      <td>荷蘭冬季暖胃湯－不倒豌豆湯</td>\n      <td>OliviaDung</td>\n      <td>2012-02-07 00:00:00</td>\n      <td>['English', '傳統', '冬天', '吃', '食譜']</td>\n      <td>['吃喝 &amp; 玩樂']</td>\n    </tr>\n  </tbody>\n</table>\n</div>"
     },
     "metadata": {},
     "execution_count": 2
    }
   ],
   "source": [
    "# load data\n",
    "posts = pd.read_csv(\"./data/oe-wp-posts.csv\", encoding=\"utf_8_sig\")\n",
    "\n",
    "# get a glance of the dataset\n",
    "posts.head()"
   ]
  },
  {
   "cell_type": "code",
   "execution_count": 3,
   "metadata": {},
   "outputs": [],
   "source": [
    "def getTags(postTag):\n",
    "    '''\n",
    "    formats the given raw `postTag` string to list-like\n",
    "    '''\n",
    "    listTags = [tag.strip(\"'\") for tag in postTag.lstrip(\"[\").rstrip(\"]\").split(\", \")]\n",
    "    return listTags"
   ]
  },
  {
   "cell_type": "code",
   "execution_count": 4,
   "metadata": {},
   "outputs": [
    {
     "output_type": "stream",
     "name": "stdout",
     "text": [
      "In total there are 3629 post tags (without duplicates removed).\n"
     ]
    }
   ],
   "source": [
    "# aggreate post tags from the dataset\n",
    "postTags = posts.post_tag.apply(getTags).sum()\n",
    "postTags = list(filter(None, postTags)) # remove empty entries\n",
    "\n",
    "print(\"In total there are %i post tags (without duplicates removed).\" % len(postTags))"
   ]
  },
  {
   "cell_type": "code",
   "execution_count": 5,
   "metadata": {},
   "outputs": [
    {
     "output_type": "stream",
     "name": "stdout",
     "text": [
      "In total there are 674 unique post tags.\n"
     ]
    }
   ],
   "source": [
    "# remove duplicated tags\n",
    "postTagsCleaned = list(set(postTags))\n",
    "\n",
    "print(\"In total there are %i unique post tags.\" % len(postTagsCleaned))"
   ]
  },
  {
   "cell_type": "code",
   "execution_count": 6,
   "metadata": {},
   "outputs": [],
   "source": [
    "# save data to csv\n",
    "pd.DataFrame({ \"tag\" : postTagsCleaned }).to_csv('./data/oe-wp-posts-tags.csv', encoding='utf_8_sig', index=False)"
   ]
  }
 ],
 "metadata": {
  "kernelspec": {
   "display_name": "Python 3",
   "language": "python",
   "name": "python3"
  },
  "language_info": {
   "codemirror_mode": {
    "name": "ipython",
    "version": 3
   },
   "file_extension": ".py",
   "mimetype": "text/x-python",
   "name": "python",
   "nbconvert_exporter": "python",
   "pygments_lexer": "ipython3",
   "version": "3.8.3-final"
  }
 },
 "nbformat": 4,
 "nbformat_minor": 4
}