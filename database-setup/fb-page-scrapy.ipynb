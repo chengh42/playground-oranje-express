{
 "cells": [
  {
   "cell_type": "markdown",
   "metadata": {},
   "source": [
    "# Scrapping Facebook page posts data\n",
    "\n",
    "The purpose of this script is to get the posts data from Facebook fanpage.\n",
    "\n",
    "*Reference: https://developers.facebook.com/docs/graph-api/reference/post/*"
   ]
  },
  {
   "cell_type": "code",
   "execution_count": 1,
   "metadata": {},
   "outputs": [],
   "source": [
    "#!pip install facebook-sdk"
   ]
  },
  {
   "cell_type": "code",
   "execution_count": 2,
   "metadata": {},
   "outputs": [],
   "source": [
    "import facebook\n",
    "import pandas as pd"
   ]
  },
  {
   "cell_type": "code",
   "execution_count": 3,
   "metadata": {},
   "outputs": [],
   "source": [
    "TOKEN = 'YOUR ACCESS TOKEN' # replace the string with your token\n",
    "PAGE_NAME = 'OranjeExpress.org'\n",
    "\n",
    "DEFAULT_NR_LIMIT = 100 # max value=100; see reference\n",
    "\n",
    "# define the field variables of interest\n",
    "DEFAULT_FIELDS = [\n",
    "    'post_id',\n",
    "    'created_time',\n",
    "    'message',\n",
    "    'is_popular'\n",
    "]"
   ]
  },
  {
   "cell_type": "code",
   "execution_count": 4,
   "metadata": {},
   "outputs": [],
   "source": [
    "def getPostData (TOKEN, PAGE_NAME, FIELDS=DEFAULT_FIELDS, NR_LIMIT=DEFAULT_NR_LIMIT):\n",
    "    '''\n",
    "    get fb page posts data with given parameters using facebook api\n",
    "    '''\n",
    "    graph = facebook.GraphAPI(access_token = TOKEN)\n",
    "    pageId = graph.get_object(PAGE_NAME, field='id')['id']\n",
    "    print(\"The Id of page \\'%s\\' is %s.\" % (PAGE_NAME, pageId))\n",
    "\n",
    "    data = [] # initial empty list to store data\n",
    "    \n",
    "    # get initial posts data\n",
    "    posts = graph.get_connections(\n",
    "                id=pageId, connection_name='posts', limit=NR_LIMIT,\n",
    "                fields=','.join(FIELDS), # create a query string of combined fields\n",
    "                )\n",
    "    data += posts['data']\n",
    "    \n",
    "    while 'next' in posts['paging']:\n",
    "        nextId = posts['paging']['next'].rsplit('after=')[1]\n",
    "        posts = graph.get_connections(\n",
    "                    id=pageId, connection_name='posts', limit=NR_LIMIT,\n",
    "                    fields=','.join(FIELDS), # create a query string of combined fields\n",
    "                    after=nextId\n",
    "                    )\n",
    "        data += posts['data']\n",
    "        \n",
    "    print('Completed! Total %i posts scrapped ^^!' % len(data))\n",
    "            \n",
    "    return data"
   ]
  },
  {
   "cell_type": "code",
   "execution_count": 5,
   "metadata": {},
   "outputs": [
    {
     "output_type": "stream",
     "name": "stdout",
     "text": [
      "The Id of page 'OranjeExpress.org' is 225292010874776.\n",
      "Completed! Total 1544 posts scrapped ^^!\n"
     ]
    }
   ],
   "source": [
    "d = getPostData(TOKEN, PAGE_NAME)"
   ]
  },
  {
   "cell_type": "code",
   "execution_count": 6,
   "metadata": {},
   "outputs": [
    {
     "output_type": "execute_result",
     "data": {
      "text/plain": [
       "                                              created_time  \\\n",
       "id                                                           \n",
       "225292010874776_947143772022926   2016-01-13T01:11:14+0000   \n",
       "225292010874776_924122320991738   2015-12-01T08:04:10+0000   \n",
       "225292010874776_696375167099789   2014-09-09T01:05:00+0000   \n",
       "225292010874776_1826896394047655  2018-04-07T07:00:00+0000   \n",
       "225292010874776_266613616742615   2012-02-06T16:36:24+0000   \n",
       "\n",
       "                                                                            message  \\\n",
       "id                                                                                    \n",
       "225292010874776_947143772022926   【#荷式社會文化】菁英會議與殖民遺緒--荷蘭聯合國教科文組織國際專家會議會外篇\\n作者：王舒...   \n",
       "225292010874776_924122320991738   【#荷事分享】\\n\\n前幾個月台灣行腳節目三立“愛玩客”，以名廚詹姆士掛帥來荷蘭拍攝，荷事生...   \n",
       "225292010874776_696375167099789   [荷式人文＆藝術]\\n藝術家紀柏豪在荷蘭V2_的獨白\\n作者：紀柏豪\\n\\n 今年獲得國立台...   \n",
       "225292010874776_1826896394047655  【#荷事分享】\\n連星期日都還不到就開始犯收假厭世症了嗎？表示該換工作啦～～～有想過到歐洲工...   \n",
       "225292010874776_266613616742615   [荷式在角落 Dutchness]\\n氣候變遷劇烈，荷蘭今年的嚴冬直到二月才開始。你已經開始...   \n",
       "\n",
       "                                  is_popular  \n",
       "id                                            \n",
       "225292010874776_947143772022926        False  \n",
       "225292010874776_924122320991738        False  \n",
       "225292010874776_696375167099789        False  \n",
       "225292010874776_1826896394047655       False  \n",
       "225292010874776_266613616742615        False  "
      ],
      "text/html": "<div>\n<style scoped>\n    .dataframe tbody tr th:only-of-type {\n        vertical-align: middle;\n    }\n\n    .dataframe tbody tr th {\n        vertical-align: top;\n    }\n\n    .dataframe thead th {\n        text-align: right;\n    }\n</style>\n<table border=\"1\" class=\"dataframe\">\n  <thead>\n    <tr style=\"text-align: right;\">\n      <th></th>\n      <th>created_time</th>\n      <th>message</th>\n      <th>is_popular</th>\n    </tr>\n    <tr>\n      <th>id</th>\n      <th></th>\n      <th></th>\n      <th></th>\n    </tr>\n  </thead>\n  <tbody>\n    <tr>\n      <th>225292010874776_947143772022926</th>\n      <td>2016-01-13T01:11:14+0000</td>\n      <td>【#荷式社會文化】菁英會議與殖民遺緒--荷蘭聯合國教科文組織國際專家會議會外篇\\n作者：王舒...</td>\n      <td>False</td>\n    </tr>\n    <tr>\n      <th>225292010874776_924122320991738</th>\n      <td>2015-12-01T08:04:10+0000</td>\n      <td>【#荷事分享】\\n\\n前幾個月台灣行腳節目三立“愛玩客”，以名廚詹姆士掛帥來荷蘭拍攝，荷事生...</td>\n      <td>False</td>\n    </tr>\n    <tr>\n      <th>225292010874776_696375167099789</th>\n      <td>2014-09-09T01:05:00+0000</td>\n      <td>[荷式人文＆藝術]\\n藝術家紀柏豪在荷蘭V2_的獨白\\n作者：紀柏豪\\n\\n 今年獲得國立台...</td>\n      <td>False</td>\n    </tr>\n    <tr>\n      <th>225292010874776_1826896394047655</th>\n      <td>2018-04-07T07:00:00+0000</td>\n      <td>【#荷事分享】\\n連星期日都還不到就開始犯收假厭世症了嗎？表示該換工作啦～～～有想過到歐洲工...</td>\n      <td>False</td>\n    </tr>\n    <tr>\n      <th>225292010874776_266613616742615</th>\n      <td>2012-02-06T16:36:24+0000</td>\n      <td>[荷式在角落 Dutchness]\\n氣候變遷劇烈，荷蘭今年的嚴冬直到二月才開始。你已經開始...</td>\n      <td>False</td>\n    </tr>\n  </tbody>\n</table>\n</div>"
     },
     "metadata": {},
     "execution_count": 6
    }
   ],
   "source": [
    "# put data into pandas df\n",
    "df = pd.DataFrame(d)\n",
    "df.set_index('id', inplace=True)\n",
    "\n",
    "# get a glance of data\n",
    "df.sample(5)"
   ]
  },
  {
   "cell_type": "code",
   "execution_count": 7,
   "metadata": {},
   "outputs": [],
   "source": [
    "# save file to csv\n",
    "df.to_csv('./data/fb-posts.csv', encoding='utf_8_sig')"
   ]
  }
 ],
 "metadata": {
  "kernelspec": {
   "display_name": "Python 3",
   "language": "python",
   "name": "python3"
  },
  "language_info": {
   "codemirror_mode": {
    "name": "ipython",
    "version": 3
   },
   "file_extension": ".py",
   "mimetype": "text/x-python",
   "name": "python",
   "nbconvert_exporter": "python",
   "pygments_lexer": "ipython3",
   "version": "3.8.3-final"
  }
 },
 "nbformat": 4,
 "nbformat_minor": 4
}