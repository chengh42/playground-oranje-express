{
 "cells": [
  {
   "cell_type": "markdown",
   "metadata": {},
   "source": [
    "# Parsing Orange Express Wordpress post data from xml to csv\n",
    "\n",
    "The purpose of this script is to parse the post data from .xml format to .csv file.\n",
    "\n",
    "Note: data `oranjeexpress.WordPress.2020-12-06.xml` was exported from Wordpress on Dec 6 2020."
   ]
  },
  {
   "cell_type": "code",
   "execution_count": 1,
   "metadata": {},
   "outputs": [],
   "source": [
    "import pandas as pd\n",
    "from bs4 import BeautifulSoup \n",
    "import re"
   ]
  },
  {
   "cell_type": "code",
   "execution_count": 2,
   "metadata": {},
   "outputs": [],
   "source": [
    "with open('./oranjeexpress.WordPress.2020-12-06.xml', 'r', encoding='utf8', errors='ignore') as f: \n",
    "    data = f.read() "
   ]
  },
  {
   "cell_type": "code",
   "execution_count": null,
   "metadata": {},
   "outputs": [],
   "source": [
    "soup = BeautifulSoup(data, \"xml\")"
   ]
  },
  {
   "cell_type": "markdown",
   "metadata": {},
   "source": [
    "A demonstration/glance of the xml data structure of a post:\n",
    "\n",
    "```\n",
    "<item>\n",
    "    <title>{title}</title>\n",
    "    <link>{long url link}</link>\n",
    "    <pubDate>{published data}</pubDate>\n",
    "    <dc:creator>{author, `<![CDATA[OliviaDung]]>`}</dc:creator>\n",
    "    <guid isPermaLink=\"false\">{short url link}</guid>\n",
    "    <content:encoded>{content, formatted}</content:encoded>\n",
    "    \n",
    "    <wp:post_id>267</wp:post_id>\n",
    "    <wp:post_date><![CDATA[2012-02-07 00:00:00]]></wp:post_date>\n",
    "    <category domain=\"post_tag\" nicename=\"%e8%8d%b7%e8%98%ad%e5%82%b3%e7%b5%b1\"><![CDATA[傳統]]></category>\n",
    "    <category domain=\"category\" nicename=\"{omitted}\"><![CDATA[吃喝 &amp; 玩樂]]></category>\n",
    "</item>\n",
    "```"
   ]
  },
  {
   "cell_type": "code",
   "execution_count": null,
   "metadata": {},
   "outputs": [],
   "source": [
    "def remove_tags(txt):\n",
    "    \"\"\"Remove xml/html tags from a string\"\"\"\n",
    "    clean = re.compile('<.*?>')\n",
    "    return re.sub(clean, '', str(txt))"
   ]
  },
  {
   "cell_type": "code",
   "execution_count": null,
   "metadata": {},
   "outputs": [],
   "source": [
    "# define the tags to be retrieved from each post data (excl. <category>, special fix needed)\n",
    "metadata = ['title', 'dc:creator', 'wp:post_id', 'wp:post_date']\n",
    "categoryDomAttr = ['post_tag', 'category']\n",
    "\n",
    "def filterMetaDataPerPost(post):\n",
    "    \"\"\"\n",
    "    Cleanup and filter out the targeted data for each input post data\n",
    "    \"\"\"\n",
    "    miniSoup = BeautifulSoup(str(post))\n",
    "    postData = {key: remove_tags(miniSoup.find(key)) for key in metadata}\n",
    "    \n",
    "    # special fix for <category> tags since attributes are involved\n",
    "    for attr in categoryDomAttr:\n",
    "        postData[attr] = [remove_tags(x).replace('&amp;amp;', '&') \n",
    "                          for x in miniSoup.find_all('category', {'domain': attr})]\n",
    "        \n",
    "    return postData"
   ]
  },
  {
   "cell_type": "code",
   "execution_count": null,
   "metadata": {},
   "outputs": [],
   "source": [
    "# get data!\n",
    "\n",
    "posts = soup.find_all('item')\n",
    "postsCleaned = list(map(filterMetaDataPerPost, posts))\n",
    "df = pd.DataFrame(postsCleaned)\n",
    "df.set_index('wp:post_id', inplace=True)"
   ]
  },
  {
   "cell_type": "code",
   "execution_count": null,
   "metadata": {},
   "outputs": [],
   "source": [
    "# check how data loooooooks\n",
    "df.sample(5)"
   ]
  },
  {
   "cell_type": "code",
   "execution_count": null,
   "metadata": {},
   "outputs": [],
   "source": [
    "# save data to csv\n",
    "df.to_csv('./data/oe-wp-posts.csv', encoding='utf_8_sig')"
   ]
  }
 ],
 "metadata": {
  "kernelspec": {
   "display_name": "Python 3",
   "language": "python",
   "name": "python3"
  },
  "language_info": {
   "codemirror_mode": {
    "name": "ipython",
    "version": 3
   },
   "file_extension": ".py",
   "mimetype": "text/x-python",
   "name": "python",
   "nbconvert_exporter": "python",
   "pygments_lexer": "ipython3",
   "version": "3.8.3"
  }
 },
 "nbformat": 4,
 "nbformat_minor": 4
}
