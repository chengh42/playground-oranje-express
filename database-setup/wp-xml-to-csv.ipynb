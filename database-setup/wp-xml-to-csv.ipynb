{
 "cells": [
  {
   "cell_type": "markdown",
   "metadata": {},
   "source": [
    "# Parsing Orange Express Wordpress post data from xml to csv\n",
    "\n",
    "The purpose of this script is to parse the post data from .xml format to .csv file.\n",
    "\n",
    "Note: data `oranjeexpress.WordPress.2020-12-06.xml` was exported from Wordpress on Dec 6 2020."
   ]
  },
  {
   "cell_type": "code",
   "execution_count": 1,
   "metadata": {},
   "outputs": [],
   "source": [
    "import pandas as pd\n",
    "from bs4 import BeautifulSoup \n",
    "import re"
   ]
  },
  {
   "cell_type": "code",
   "execution_count": 2,
   "metadata": {},
   "outputs": [],
   "source": [
    "with open('./oranjeexpress.WordPress.2020-12-06.xml', 'r', encoding='utf8', errors='ignore') as f: \n",
    "    data = f.read() "
   ]
  },
  {
   "cell_type": "code",
   "execution_count": 3,
   "metadata": {},
   "outputs": [],
   "source": [
    "soup = BeautifulSoup(data, \"xml\")"
   ]
  },
  {
   "cell_type": "markdown",
   "metadata": {},
   "source": [
    "A demonstration of the xml data structure of a post:\n",
    "- `{CONTENT}` implies the type of content\n",
    "- `<TAG>`\n",
    "- Some data comes with prefix e.g. _\"<![CDATA]\"_\n",
    "\n",
    "A glance:\n",
    "\n",
    "```\n",
    "<item>\n",
    "    <title>{title}</title>\n",
    "    <link>{long url link}</link>\n",
    "    <pubDate>{published data}</pubDate>\n",
    "    <dc:creator>{author, `<![CDATA[OliviaDung]]>`}</dc:creator>\n",
    "    <guid isPermaLink=\"false\">{short url link}</guid>\n",
    "    <content:encoded>{content, formatted}</content:encoded>\n",
    "    \n",
    "    <wp:post_id>267</wp:post_id>\n",
    "    <wp:post_date><![CDATA[2012-02-07 00:00:00]]></wp:post_date>\n",
    "    <category domain=\"post_tag\" nicename=\"%e8%8d%b7%e8%98%ad%e5%82%b3%e7%b5%b1\"><![CDATA[傳統]]></category>\n",
    "    <category domain=\"category\" nicename=\"{omitted}\"><![CDATA[吃喝 &amp; 玩樂]]></category>\n",
    "</item>\n",
    "```"
   ]
  },
  {
   "cell_type": "code",
   "execution_count": 4,
   "metadata": {},
   "outputs": [],
   "source": [
    "def remove_tags(txt):\n",
    "    \"\"\"Remove xml/html tags from a string\"\"\"\n",
    "    clean = re.compile('<.*?>')\n",
    "    return re.sub(clean, '', str(txt))"
   ]
  },
  {
   "cell_type": "code",
   "execution_count": 5,
   "metadata": {},
   "outputs": [],
   "source": [
    "# define the tags to be retrieved from each post data (excl. <category>, special fix needed)\n",
    "metadata = ['title', 'dc:creator', 'wp:post_id', 'wp:post_date']\n",
    "categoryDomAttr = ['post_tag', 'category']\n",
    "\n",
    "def filterMetaDataPerPost(post):\n",
    "    \"\"\"\n",
    "    Cleanup and filter out the targeted data for each input post data\n",
    "    \"\"\"\n",
    "    miniSoup = BeautifulSoup(str(post))\n",
    "    postData = {key: remove_tags(miniSoup.find(key)) for key in metadata}\n",
    "    \n",
    "    # special fix for <category> tags since attributes are involved\n",
    "    for attr in categoryDomAttr:\n",
    "        postData[attr] = [remove_tags(x).replace('&amp;amp;', '&') \n",
    "                          for x in miniSoup.find_all('category', {'domain': attr})]\n",
    "        \n",
    "    return postData"
   ]
  },
  {
   "cell_type": "code",
   "execution_count": 6,
   "metadata": {},
   "outputs": [],
   "source": [
    "# get data!\n",
    "\n",
    "posts = soup.find_all('item')\n",
    "postsCleaned = list(map(filterMetaDataPerPost, posts))\n",
    "df = pd.DataFrame(postsCleaned)\n",
    "df.set_index('wp:post_id', inplace=True)"
   ]
  },
  {
   "cell_type": "code",
   "execution_count": 7,
   "metadata": {},
   "outputs": [
    {
     "data": {
      "text/html": [
       "<div>\n",
       "<style scoped>\n",
       "    .dataframe tbody tr th:only-of-type {\n",
       "        vertical-align: middle;\n",
       "    }\n",
       "\n",
       "    .dataframe tbody tr th {\n",
       "        vertical-align: top;\n",
       "    }\n",
       "\n",
       "    .dataframe thead th {\n",
       "        text-align: right;\n",
       "    }\n",
       "</style>\n",
       "<table border=\"1\" class=\"dataframe\">\n",
       "  <thead>\n",
       "    <tr style=\"text-align: right;\">\n",
       "      <th></th>\n",
       "      <th>title</th>\n",
       "      <th>dc:creator</th>\n",
       "      <th>wp:post_date</th>\n",
       "      <th>post_tag</th>\n",
       "      <th>category</th>\n",
       "    </tr>\n",
       "    <tr>\n",
       "      <th>wp:post_id</th>\n",
       "      <th></th>\n",
       "      <th></th>\n",
       "      <th></th>\n",
       "      <th></th>\n",
       "      <th></th>\n",
       "    </tr>\n",
       "  </thead>\n",
       "  <tbody>\n",
       "    <tr>\n",
       "      <th>10391</th>\n",
       "      <td>[貓力畫荷蘭] 創業也要趁早？荷蘭青少年創業正夯</td>\n",
       "      <td>moli</td>\n",
       "      <td>2019-01-28 06:28:11</td>\n",
       "      <td>[創業, 教育, 荷蘭教育, 荷蘭青年, 貓力畫荷蘭]</td>\n",
       "      <td>[社會 &amp; 文化]</td>\n",
       "    </tr>\n",
       "    <tr>\n",
       "      <th>8234</th>\n",
       "      <td>Museum MORE give you even more! -盧若城堡分館也精彩!</td>\n",
       "      <td>Cynthia</td>\n",
       "      <td>2017-11-10 00:14:08</td>\n",
       "      <td>[博物館, 景點, 藝術, 設計]</td>\n",
       "      <td>[人文 &amp; 藝術]</td>\n",
       "    </tr>\n",
       "    <tr>\n",
       "      <th>1412</th>\n",
       "      <td>阿姆斯特丹轉角遇到ART－De Staalman</td>\n",
       "      <td>QB</td>\n",
       "      <td>2014-03-31 09:21:51</td>\n",
       "      <td>[公共藝術, 景點, 設計, 轉角遇到ART, 阿姆斯特丹, 霍夫曼]</td>\n",
       "      <td>[人文 &amp; 藝術]</td>\n",
       "    </tr>\n",
       "    <tr>\n",
       "      <th>5238</th>\n",
       "      <td>有尊嚴的老去－荷蘭與比利時老年照護</td>\n",
       "      <td>rhythmsmonthly</td>\n",
       "      <td>2015-12-04 08:17:25</td>\n",
       "      <td>[合作文章, 社會, 老年照護, 銀髮族]</td>\n",
       "      <td>[社會 &amp; 文化]</td>\n",
       "    </tr>\n",
       "    <tr>\n",
       "      <th>10914</th>\n",
       "      <td>在城市中看見攝影，鋪陳觀眾視角：探訪荷蘭布雷達攝影節的導覽與推廣規劃</td>\n",
       "      <td>daning</td>\n",
       "      <td>2019-10-30 00:02:48</td>\n",
       "      <td>[Breda, 展覽, 攝影, 藝術]</td>\n",
       "      <td>[人文 &amp; 藝術]</td>\n",
       "    </tr>\n",
       "  </tbody>\n",
       "</table>\n",
       "</div>"
      ],
      "text/plain": [
       "                                                  title      dc:creator  \\\n",
       "wp:post_id                                                                \n",
       "10391                          [貓力畫荷蘭] 創業也要趁早？荷蘭青少年創業正夯            moli   \n",
       "8234        Museum MORE give you even more! -盧若城堡分館也精彩!         Cynthia   \n",
       "1412                           阿姆斯特丹轉角遇到ART－De Staalman              QB   \n",
       "5238                                  有尊嚴的老去－荷蘭與比利時老年照護  rhythmsmonthly   \n",
       "10914                在城市中看見攝影，鋪陳觀眾視角：探訪荷蘭布雷達攝影節的導覽與推廣規劃          daning   \n",
       "\n",
       "                   wp:post_date                             post_tag  \\\n",
       "wp:post_id                                                             \n",
       "10391       2019-01-28 06:28:11          [創業, 教育, 荷蘭教育, 荷蘭青年, 貓力畫荷蘭]   \n",
       "8234        2017-11-10 00:14:08                    [博物館, 景點, 藝術, 設計]   \n",
       "1412        2014-03-31 09:21:51  [公共藝術, 景點, 設計, 轉角遇到ART, 阿姆斯特丹, 霍夫曼]   \n",
       "5238        2015-12-04 08:17:25                [合作文章, 社會, 老年照護, 銀髮族]   \n",
       "10914       2019-10-30 00:02:48                  [Breda, 展覽, 攝影, 藝術]   \n",
       "\n",
       "             category  \n",
       "wp:post_id             \n",
       "10391       [社會 & 文化]  \n",
       "8234        [人文 & 藝術]  \n",
       "1412        [人文 & 藝術]  \n",
       "5238        [社會 & 文化]  \n",
       "10914       [人文 & 藝術]  "
      ]
     },
     "execution_count": 7,
     "metadata": {},
     "output_type": "execute_result"
    }
   ],
   "source": [
    "# check how data loooooooks\n",
    "df.sample(5)"
   ]
  },
  {
   "cell_type": "code",
   "execution_count": 8,
   "metadata": {},
   "outputs": [],
   "source": [
    "# save data to csv\n",
    "df.to_csv('oe-wp-posts.csv', encoding='utf_8_sig')"
   ]
  }
 ],
 "metadata": {
  "kernelspec": {
   "display_name": "Python 3",
   "language": "python",
   "name": "python3"
  },
  "language_info": {
   "codemirror_mode": {
    "name": "ipython",
    "version": 3
   },
   "file_extension": ".py",
   "mimetype": "text/x-python",
   "name": "python",
   "nbconvert_exporter": "python",
   "pygments_lexer": "ipython3",
   "version": "3.8.3"
  }
 },
 "nbformat": 4,
 "nbformat_minor": 4
}
